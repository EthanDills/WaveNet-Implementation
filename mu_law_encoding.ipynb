{
 "cells": [
  {
   "cell_type": "code",
   "execution_count": 4,
   "id": "62987122-f537-407e-8532-a2342f4b55d5",
   "metadata": {
    "collapsed": true,
    "jupyter": {
     "outputs_hidden": true
    }
   },
   "outputs": [
    {
     "name": "stdout",
     "output_type": "stream",
     "text": [
      "Collecting pydub\n",
      "  Downloading pydub-0.25.1-py2.py3-none-any.whl.metadata (1.4 kB)\n",
      "Downloading pydub-0.25.1-py2.py3-none-any.whl (32 kB)\n",
      "Installing collected packages: pydub\n",
      "Successfully installed pydub-0.25.1\n"
     ]
    }
   ],
   "source": [
    "# !pip install soundfile numpy matplotlib librosa\n",
    "!pip install pydub"
   ]
  },
  {
   "cell_type": "code",
   "execution_count": 3,
   "id": "48c372bd-7057-4c7a-afdb-4d04aafb7be0",
   "metadata": {},
   "outputs": [],
   "source": [
    "import numpy as np\n",
    "# import librosa\n",
    "import scipy.io.wavfile\n",
    "import scipy.signal\n",
    "import soundfile as sf\n",
    "import matplotlib.pyplot as plt\n",
    "# need to find a way to do the mu-law encoding WITHOUT using librosa"
   ]
  },
  {
   "attachments": {},
   "cell_type": "markdown",
   "id": "42871021",
   "metadata": {},
   "source": [
    "Need to:\n",
    "\n",
    "* load the entirety of the mp3 file\n",
    "* encode the entirety of the .mp3 file\n",
    "* then snip after the 1 Millionth entry (so we have 1 Million tokens)"
   ]
  },
  {
   "cell_type": "code",
   "execution_count": 23,
   "id": "3abdf8bd-673e-44e7-908b-e065a74337fb",
   "metadata": {},
   "outputs": [
    {
     "name": "stdout",
     "output_type": "stream",
     "text": [
      "The sample rate of this file is 16000 Hz\n",
      "The number of tokens is 1000000 tokens\n",
      "<class 'numpy.ndarray'>\n"
     ]
    }
   ],
   "source": [
    "\n",
    "\n",
    "audio_data, sample_rate = sf.read('train_samples/emil-telmanyi_bwv1003.wav')\n",
    "print(f\"The sample rate of this file is {sample_rate} Hz\")\n",
    "audio_data = audio_data[:1000000] # we want 1M tokens\n",
    "print(f\"The number of tokens is {len(audio_data)} tokens\")\n",
    "\n",
    "print(type(audio_data))"
   ]
  },
  {
   "attachments": {},
   "cell_type": "markdown",
   "id": "5584285c",
   "metadata": {},
   "source": [
    "## Saving our data as a .npz file"
   ]
  },
  {
   "cell_type": "code",
   "execution_count": 17,
   "id": "4d30ce18-5775-4b5a-a69e-ccde846f0893",
   "metadata": {},
   "outputs": [],
   "source": [
    "np.savez('train_samples/dataset.npz', *[audio_data])"
   ]
  },
  {
   "cell_type": "code",
   "execution_count": 18,
   "id": "c9636723",
   "metadata": {},
   "outputs": [
    {
     "name": "stdout",
     "output_type": "stream",
     "text": [
      "['arr_0']\n"
     ]
    }
   ],
   "source": [
    "loaded_file = np.load(\"train_samples/dataset.npz\")\n",
    "print(loaded_file.files)"
   ]
  },
  {
   "cell_type": "code",
   "execution_count": null,
   "id": "2eb19c58",
   "metadata": {},
   "outputs": [],
   "source": []
  }
 ],
 "metadata": {
  "kernelspec": {
   "display_name": "Python 3 (ipykernel)",
   "language": "python",
   "name": "python3"
  },
  "language_info": {
   "codemirror_mode": {
    "name": "ipython",
    "version": 3
   },
   "file_extension": ".py",
   "mimetype": "text/x-python",
   "name": "python",
   "nbconvert_exporter": "python",
   "pygments_lexer": "ipython3",
   "version": "3.10.9"
  }
 },
 "nbformat": 4,
 "nbformat_minor": 5
}
