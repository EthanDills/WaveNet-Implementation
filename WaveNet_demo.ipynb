{
 "cells": [
  {
   "cell_type": "markdown",
   "metadata": {},
   "source": [
    "This is notebook gives a quick overview of this WaveNet implementation, i.e. creating the model and the data set, training the model and generating samples from it."
   ]
  },
  {
   "cell_type": "code",
   "execution_count": null,
   "metadata": {},
   "outputs": [],
   "source": [
    "# !python -m pip install tensorflow\n",
    "# !pip3 install torch torchvision torchaudio --index-url https://download.pytorch.org/whl/cu118\n",
    "# !pip uninstall torch torchvision torchaudio\n"
   ]
  },
  {
   "cell_type": "code",
   "execution_count": 32,
   "metadata": {},
   "outputs": [
    {
     "name": "stdout",
     "output_type": "stream",
     "text": [
      "C:\\Users\\Ethan\\anaconda3\\envs\\pythonProject\\python.exe\n"
     ]
    }
   ],
   "source": [
    "# checking which conda environment this kernel is using\n",
    "import sys\n",
    "print(sys.executable)"
   ]
  },
  {
   "cell_type": "code",
   "execution_count": 1,
   "metadata": {},
   "outputs": [],
   "source": [
    "import numpy as np\n",
    "import torch\n",
    "from wavenet_model import *\n",
    "from audio_data import WavenetDataset #WavenetDataset() uses librosa\n",
    "from wavenet_training import *\n",
    "from model_logging import *\n",
    "import tensorflow as tf"
   ]
  },
  {
   "cell_type": "markdown",
   "metadata": {},
   "source": [
    "## Model\n",
    "This is an implementation of WaveNet as it was described in the original paper (https://arxiv.org/abs/1609.03499). Each layer looks like this:\n",
    "\n",
    "```\n",
    "            |----------------------------------------|      *residual*\n",
    "            |                                        |\n",
    "            |    |-- conv -- tanh --|                |\n",
    " -> dilate -|----|                  * ----|-- 1x1 -- + -->  *input*\n",
    "                 |-- conv -- sigm --|     |\n",
    "                                         1x1\n",
    "                                          |\n",
    " ---------------------------------------> + ------------->  *skip*\n",
    "```\n",
    "\n",
    "Each layer dilates the input by a factor of two. After each block the dilation is reset and start from one. You can define the number of layers in each block (``layers``) and the number of blocks (``blocks``). The blocks are followed by two 1x1 convolutions and a softmax output function.\n",
    "Because of the dilation operation, the independent output for multiple successive samples can be calculated efficiently. With ``output_length``, you can define the number these outputs. Empirically, it seems that a large number of skip channels is required."
   ]
  },
  {
   "cell_type": "code",
   "execution_count": 2,
   "metadata": {},
   "outputs": [
    {
     "name": "stdout",
     "output_type": "stream",
     "text": [
      "use gpu\n"
     ]
    }
   ],
   "source": [
    "# initialize cuda option\n",
    "dtype = torch.FloatTensor # data type\n",
    "ltype = torch.LongTensor # label type\n",
    "\n",
    "use_cuda = torch.cuda.is_available()\n",
    "\n",
    "if use_cuda:\n",
    "    print('use gpu')\n",
    "    dtype = torch.cuda.FloatTensor\n",
    "    # dtype=torch.tensor(data=None,device=\"cuda\")\n",
    "    ltype = torch.cuda.LongTensor\n",
    "else:\n",
    "    print('not using gpu')"
   ]
  },
  {
   "cell_type": "code",
   "execution_count": 31,
   "metadata": {
    "collapsed": false,
    "jupyter": {
     "outputs_hidden": false
    }
   },
   "outputs": [
    {
     "name": "stdout",
     "output_type": "stream",
     "text": [
      "model:  WaveNetModel(\n",
      "  (filter_convs): ModuleList(\n",
      "    (0-29): 30 x Conv1d(24, 12, kernel_size=(2,), stride=(1,))\n",
      "  )\n",
      "  (gate_convs): ModuleList(\n",
      "    (0-29): 30 x Conv1d(24, 12, kernel_size=(2,), stride=(1,))\n",
      "  )\n",
      "  (residual_convs): ModuleList(\n",
      "    (0-29): 30 x Conv1d(12, 24, kernel_size=(1,), stride=(1,))\n",
      "  )\n",
      "  (skip_convs): ModuleList(\n",
      "    (0-29): 30 x Conv1d(12, 256, kernel_size=(1,), stride=(1,))\n",
      "  )\n",
      "  (start_conv): Conv1d(256, 24, kernel_size=(1,), stride=(1,))\n",
      "  (end_conv_1): Conv1d(256, 256, kernel_size=(1,), stride=(1,))\n",
      "  (end_conv_2): Conv1d(256, 256, kernel_size=(1,), stride=(1,))\n",
      ")\n",
      "receptive field:  3070\n",
      "parameter count:  282232\n",
      "output length:    16\n"
     ]
    }
   ],
   "source": [
    "model = WaveNetModel(layers=10,\n",
    "                     blocks=3,\n",
    "                     dilation_channels=24,\n",
    "                     residual_channels=32,\n",
    "                     skip_channels=1024,\n",
    "                     end_channels=256, \n",
    "                     output_length=16, # is this how many predictions we make?\n",
    "                     dtype=dtype, \n",
    "                     bias=True)\n",
    "model.to(\"cuda\")\n",
    "# model = load_latest_model_from('snapshots', use_cuda=use_cuda)\n",
    "\n",
    "print('model: ', model)\n",
    "print('receptive field: ', model.receptive_field)\n",
    "print('parameter count: ', model.parameter_count())\n",
    "print('output length:   ', model.output_length)"
   ]
  },
  {
   "cell_type": "markdown",
   "metadata": {},
   "source": [
    "## Data Set\n",
    "To create the data set, you have to specify a path to a data set file. If this file already exists it will be used, if not it will be generated. If you want to generate the data set file (a ``.npz`` file), you have to specify the directory (``file_location``) in which all the audio files you want to use are located. The attribute ``target_length`` specifies the number of successive samples are used as a target and corresponds to the output length of the model. The ``item_length`` defines the number of samples in each item of the dataset and should always be ``model.receptive_field + model.output_length - 1``.\n",
    "\n",
    "```\n",
    "          |----receptive_field----|\n",
    "                                |--output_length--|\n",
    "example:  | | | | | | | | | | | | | | | | | | | | |\n",
    "target:                           | | | | | | | | | |  \n",
    "```\n",
    "To create a test set, you should define a ``test_stride``. Then each ``test_stride``th item will be assigned to the test set."
   ]
  },
  {
   "cell_type": "code",
   "execution_count": 23,
   "metadata": {
    "collapsed": false,
    "jupyter": {
     "outputs_hidden": false
    }
   },
   "outputs": [
    {
     "name": "stdout",
     "output_type": "stream",
     "text": [
      "one hot input\n",
      "the dataset has 62308 items\n",
      "torch.Size([256, 3085])\n"
     ]
    }
   ],
   "source": [
    "data = WavenetDataset(dataset_file='train_samples/dataset.npz',\n",
    "                      item_length=model.receptive_field + model.output_length - 1,\n",
    "                      target_length=model.output_length,\n",
    "                      file_location='train_samples',\n",
    "                      test_stride=1000000000000)\n",
    "print('the dataset has ' + str(len(data)) + ' items')\n",
    "print(f'{data[100][0].shape}')"
   ]
  },
  {
   "cell_type": "markdown",
   "metadata": {},
   "source": [
    "## Training and Logging\n",
    "This implementation supports logging with TensorBoard (you need to have TensorFlow installed). You can even generate audio samples from the current snapshot of the model during training. This will happen in a background thread on the cpu, so it will not interfere with the actual training but will be rather slow. If you don't have TensorFlow, you can use the standard logger that will print out to the console.\n",
    "The trainer uses Adam as default optimizer."
   ]
  },
  {
   "cell_type": "code",
   "execution_count": 5,
   "metadata": {},
   "outputs": [
    {
     "name": "stdout",
     "output_type": "stream",
     "text": [
      "TensorFlow Version: 2.19.0\n",
      "2.19.0\n",
      "WARNING:tensorflow:From C:\\Users\\Ethan\\Documents\\MATH 479 (Math Modelling)\\WaveNet-Implementation\\model_logging.py:74: The name tf.disable_eager_execution is deprecated. Please use tf.compat.v1.disable_eager_execution instead.\n",
      "\n",
      "WARNING:tensorflow:From C:\\Users\\Ethan\\Documents\\MATH 479 (Math Modelling)\\WaveNet-Implementation\\model_logging.py:76: The name tf.summary.FileWriter is deprecated. Please use tf.compat.v1.summary.FileWriter instead.\n",
      "\n"
     ]
    }
   ],
   "source": [
    "print(f\"TensorFlow Version: {tf.__version__}\")\n",
    "def generate_and_log_samples(step):\n",
    "    sample_length=32000\n",
    "    gen_model = load_latest_model_from('snapshots', use_cuda=False) # (Apparently) generating with Fast Wavenet is faster on cpu\n",
    "    print(\"start generating...\")\n",
    "    samples = generate_audio(gen_model,\n",
    "                             length=sample_length,\n",
    "                             temperatures=[0.5])\n",
    "    tf_samples = tf.convert_to_tensor(samples, dtype=tf.float32)\n",
    "    logger.audio_summary('temperature_0.5', tf_samples, step, sr=16000)\n",
    "\n",
    "    samples = generate_audio(gen_model,\n",
    "                             length=sample_length,\n",
    "                             temperatures=[1.])\n",
    "    tf_samples = tf.convert_to_tensor(samples, dtype=tf.float32)\n",
    "    logger.audio_summary('temperature_1.0', tf_samples, step, sr=16000)\n",
    "    print(\"audio clips generated\")\n",
    "\n",
    "\n",
    "logger = TensorboardLogger(log_interval=200,\n",
    "                           validation_interval=400,\n",
    "                           generate_interval=1000,\n",
    "                           generate_function=generate_and_log_samples,\n",
    "                           log_dir=\"logs/model\")\n",
    "\n",
    "# logger = Logger(log_interval=200,\n",
    "#                 validation_interval=400,\n",
    "#                 generate_interval=1000)"
   ]
  },
  {
   "cell_type": "code",
   "execution_count": 6,
   "metadata": {
    "collapsed": false,
    "jupyter": {
     "outputs_hidden": false
    },
    "scrolled": true
   },
   "outputs": [
    {
     "name": "stdout",
     "output_type": "stream",
     "text": [
      "start training...\n",
      "epoch 0\n",
      "On batch number: 0 of 15334\n",
      "one training step does take approximately 0.44217905759811404 seconds)\n",
      "On batch number: 250 of 15334\n",
      "On batch number: 500 of 15334\n",
      "On batch number: 750 of 15334\n"
     ]
    },
    {
     "name": "stderr",
     "output_type": "stream",
     "text": [
      "Exception in thread Thread-4 (generate_and_log_samples):\n",
      "Traceback (most recent call last):\n",
      "  File \"C:\\Users\\Ethan\\anaconda3\\envs\\pythonProject\\lib\\threading.py\", line 1016, in _bootstrap_inner\n",
      "    self.run()\n",
      "  File \"C:\\Users\\Ethan\\anaconda3\\envs\\pythonProject\\lib\\site-packages\\ipykernel\\ipkernel.py\", line 766, in run_closure\n",
      "    _threading_Thread_run(self)\n",
      "  File \"C:\\Users\\Ethan\\anaconda3\\envs\\pythonProject\\lib\\threading.py\", line 953, in run\n",
      "    self._target(*self._args, **self._kwargs)\n",
      "  File \"C:\\Users\\Ethan\\AppData\\Local\\Temp\\ipykernel_6908\\2911061226.py\", line 4, in generate_and_log_samples\n",
      "  File \"C:\\Users\\Ethan\\Documents\\MATH 479 (Math Modelling)\\WaveNet-Implementation\\wavenet_model.py\", line 344, in load_latest_model_from\n",
      "    model = load_to_cpu(newest_file)\n",
      "  File \"C:\\Users\\Ethan\\Documents\\MATH 479 (Math Modelling)\\WaveNet-Implementation\\wavenet_model.py\", line 350, in load_to_cpu\n",
      "    model = torch.load(path, map_location=lambda storage, loc: storage)\n",
      "  File \"C:\\Users\\Ethan\\anaconda3\\envs\\pythonProject\\lib\\site-packages\\torch\\serialization.py\", line 1524, in load\n",
      "    raise pickle.UnpicklingError(_get_wo_message(str(e))) from None\n",
      "_pickle.UnpicklingError: Weights only load failed. This file can still be loaded, to do so you have two options, \u001b[1mdo those steps only if you trust the source of the checkpoint\u001b[0m. \n",
      "\t(1) In PyTorch 2.6, we changed the default value of the `weights_only` argument in `torch.load` from `False` to `True`. Re-running `torch.load` with `weights_only` set to `False` will likely succeed, but it can result in arbitrary code execution. Do it only if you got the file from a trusted source.\n",
      "\t(2) Alternatively, to load with `weights_only=True` please check the recommended steps in the following error message.\n",
      "\tWeightsUnpickler error: Unsupported global: GLOBAL wavenet_model.WaveNetModel was not an allowed global by default. Please use `torch.serialization.add_safe_globals([wavenet_model.WaveNetModel])` or the `torch.serialization.safe_globals([wavenet_model.WaveNetModel])` context manager to allowlist this global if you trust this class/function.\n",
      "\n",
      "Check the documentation of torch.load to learn more about types accepted by default with weights_only https://pytorch.org/docs/stable/generated/torch.load.html.\n"
     ]
    },
    {
     "name": "stdout",
     "output_type": "stream",
     "text": [
      "load model snapshots/chaconne_model_2025-05-03_20-23-24\n",
      "On batch number: 1000 of 15334\n",
      "On batch number: 1250 of 15334\n",
      "On batch number: 1500 of 15334\n",
      "On batch number: 1750 of 15334\n"
     ]
    },
    {
     "name": "stderr",
     "output_type": "stream",
     "text": [
      "Exception in thread Thread-5 (generate_and_log_samples):\n",
      "Traceback (most recent call last):\n",
      "  File \"C:\\Users\\Ethan\\anaconda3\\envs\\pythonProject\\lib\\threading.py\", line 1016, in _bootstrap_inner\n",
      "    self.run()\n",
      "  File \"C:\\Users\\Ethan\\anaconda3\\envs\\pythonProject\\lib\\site-packages\\ipykernel\\ipkernel.py\", line 766, in run_closure\n",
      "    _threading_Thread_run(self)\n",
      "  File \"C:\\Users\\Ethan\\anaconda3\\envs\\pythonProject\\lib\\threading.py\", line 953, in run\n",
      "    self._target(*self._args, **self._kwargs)\n",
      "  File \"C:\\Users\\Ethan\\AppData\\Local\\Temp\\ipykernel_6908\\2911061226.py\", line 4, in generate_and_log_samples\n",
      "  File \"C:\\Users\\Ethan\\Documents\\MATH 479 (Math Modelling)\\WaveNet-Implementation\\wavenet_model.py\", line 344, in load_latest_model_from\n",
      "    model = load_to_cpu(newest_file)\n",
      "  File \"C:\\Users\\Ethan\\Documents\\MATH 479 (Math Modelling)\\WaveNet-Implementation\\wavenet_model.py\", line 350, in load_to_cpu\n",
      "    model = torch.load(path, map_location=lambda storage, loc: storage)\n",
      "  File \"C:\\Users\\Ethan\\anaconda3\\envs\\pythonProject\\lib\\site-packages\\torch\\serialization.py\", line 1524, in load\n",
      "    raise pickle.UnpicklingError(_get_wo_message(str(e))) from None\n",
      "_pickle.UnpicklingError: Weights only load failed. This file can still be loaded, to do so you have two options, \u001b[1mdo those steps only if you trust the source of the checkpoint\u001b[0m. \n",
      "\t(1) In PyTorch 2.6, we changed the default value of the `weights_only` argument in `torch.load` from `False` to `True`. Re-running `torch.load` with `weights_only` set to `False` will likely succeed, but it can result in arbitrary code execution. Do it only if you got the file from a trusted source.\n",
      "\t(2) Alternatively, to load with `weights_only=True` please check the recommended steps in the following error message.\n",
      "\tWeightsUnpickler error: Unsupported global: GLOBAL wavenet_model.WaveNetModel was not an allowed global by default. Please use `torch.serialization.add_safe_globals([wavenet_model.WaveNetModel])` or the `torch.serialization.safe_globals([wavenet_model.WaveNetModel])` context manager to allowlist this global if you trust this class/function.\n",
      "\n",
      "Check the documentation of torch.load to learn more about types accepted by default with weights_only https://pytorch.org/docs/stable/generated/torch.load.html.\n"
     ]
    },
    {
     "name": "stdout",
     "output_type": "stream",
     "text": [
      "load model snapshots/chaconne_model_2025-05-03_20-34-57\n",
      "On batch number: 2000 of 15334\n",
      "On batch number: 2250 of 15334\n",
      "On batch number: 2500 of 15334\n",
      "On batch number: 2750 of 15334\n"
     ]
    },
    {
     "name": "stderr",
     "output_type": "stream",
     "text": [
      "Exception in thread Thread-6 (generate_and_log_samples):\n",
      "Traceback (most recent call last):\n",
      "  File \"C:\\Users\\Ethan\\anaconda3\\envs\\pythonProject\\lib\\threading.py\", line 1016, in _bootstrap_inner\n",
      "    self.run()\n",
      "  File \"C:\\Users\\Ethan\\anaconda3\\envs\\pythonProject\\lib\\site-packages\\ipykernel\\ipkernel.py\", line 766, in run_closure\n",
      "    _threading_Thread_run(self)\n",
      "  File \"C:\\Users\\Ethan\\anaconda3\\envs\\pythonProject\\lib\\threading.py\", line 953, in run\n",
      "    self._target(*self._args, **self._kwargs)\n",
      "  File \"C:\\Users\\Ethan\\AppData\\Local\\Temp\\ipykernel_6908\\2911061226.py\", line 4, in generate_and_log_samples\n",
      "  File \"C:\\Users\\Ethan\\Documents\\MATH 479 (Math Modelling)\\WaveNet-Implementation\\wavenet_model.py\", line 344, in load_latest_model_from\n",
      "    model = load_to_cpu(newest_file)\n",
      "  File \"C:\\Users\\Ethan\\Documents\\MATH 479 (Math Modelling)\\WaveNet-Implementation\\wavenet_model.py\", line 350, in load_to_cpu\n",
      "    model = torch.load(path, map_location=lambda storage, loc: storage)\n",
      "  File \"C:\\Users\\Ethan\\anaconda3\\envs\\pythonProject\\lib\\site-packages\\torch\\serialization.py\", line 1524, in load\n",
      "    raise pickle.UnpicklingError(_get_wo_message(str(e))) from None\n",
      "_pickle.UnpicklingError: Weights only load failed. This file can still be loaded, to do so you have two options, \u001b[1mdo those steps only if you trust the source of the checkpoint\u001b[0m. \n",
      "\t(1) In PyTorch 2.6, we changed the default value of the `weights_only` argument in `torch.load` from `False` to `True`. Re-running `torch.load` with `weights_only` set to `False` will likely succeed, but it can result in arbitrary code execution. Do it only if you got the file from a trusted source.\n",
      "\t(2) Alternatively, to load with `weights_only=True` please check the recommended steps in the following error message.\n",
      "\tWeightsUnpickler error: Unsupported global: GLOBAL wavenet_model.WaveNetModel was not an allowed global by default. Please use `torch.serialization.add_safe_globals([wavenet_model.WaveNetModel])` or the `torch.serialization.safe_globals([wavenet_model.WaveNetModel])` context manager to allowlist this global if you trust this class/function.\n",
      "\n",
      "Check the documentation of torch.load to learn more about types accepted by default with weights_only https://pytorch.org/docs/stable/generated/torch.load.html.\n"
     ]
    },
    {
     "name": "stdout",
     "output_type": "stream",
     "text": [
      "load model snapshots/chaconne_model_2025-05-03_20-48-44\n",
      "On batch number: 3000 of 15334\n",
      "On batch number: 3250 of 15334\n",
      "On batch number: 3500 of 15334\n",
      "On batch number: 3750 of 15334\n"
     ]
    },
    {
     "name": "stderr",
     "output_type": "stream",
     "text": [
      "Exception in thread Thread-7 (generate_and_log_samples):\n",
      "Traceback (most recent call last):\n",
      "  File \"C:\\Users\\Ethan\\anaconda3\\envs\\pythonProject\\lib\\threading.py\", line 1016, in _bootstrap_inner\n",
      "    self.run()\n",
      "  File \"C:\\Users\\Ethan\\anaconda3\\envs\\pythonProject\\lib\\site-packages\\ipykernel\\ipkernel.py\", line 766, in run_closure\n",
      "    _threading_Thread_run(self)\n",
      "  File \"C:\\Users\\Ethan\\anaconda3\\envs\\pythonProject\\lib\\threading.py\", line 953, in run\n",
      "    self._target(*self._args, **self._kwargs)\n",
      "  File \"C:\\Users\\Ethan\\AppData\\Local\\Temp\\ipykernel_6908\\2911061226.py\", line 4, in generate_and_log_samples\n",
      "  File \"C:\\Users\\Ethan\\Documents\\MATH 479 (Math Modelling)\\WaveNet-Implementation\\wavenet_model.py\", line 344, in load_latest_model_from\n",
      "    model = load_to_cpu(newest_file)\n",
      "  File \"C:\\Users\\Ethan\\Documents\\MATH 479 (Math Modelling)\\WaveNet-Implementation\\wavenet_model.py\", line 350, in load_to_cpu\n",
      "    model = torch.load(path, map_location=lambda storage, loc: storage)\n",
      "  File \"C:\\Users\\Ethan\\anaconda3\\envs\\pythonProject\\lib\\site-packages\\torch\\serialization.py\", line 1524, in load\n",
      "    raise pickle.UnpicklingError(_get_wo_message(str(e))) from None\n",
      "_pickle.UnpicklingError: Weights only load failed. This file can still be loaded, to do so you have two options, \u001b[1mdo those steps only if you trust the source of the checkpoint\u001b[0m. \n",
      "\t(1) In PyTorch 2.6, we changed the default value of the `weights_only` argument in `torch.load` from `False` to `True`. Re-running `torch.load` with `weights_only` set to `False` will likely succeed, but it can result in arbitrary code execution. Do it only if you got the file from a trusted source.\n",
      "\t(2) Alternatively, to load with `weights_only=True` please check the recommended steps in the following error message.\n",
      "\tWeightsUnpickler error: Unsupported global: GLOBAL wavenet_model.WaveNetModel was not an allowed global by default. Please use `torch.serialization.add_safe_globals([wavenet_model.WaveNetModel])` or the `torch.serialization.safe_globals([wavenet_model.WaveNetModel])` context manager to allowlist this global if you trust this class/function.\n",
      "\n",
      "Check the documentation of torch.load to learn more about types accepted by default with weights_only https://pytorch.org/docs/stable/generated/torch.load.html.\n"
     ]
    },
    {
     "name": "stdout",
     "output_type": "stream",
     "text": [
      "load model snapshots/chaconne_model_2025-05-03_21-00-33\n",
      "On batch number: 4000 of 15334\n",
      "On batch number: 4250 of 15334\n",
      "On batch number: 4500 of 15334\n",
      "On batch number: 4750 of 15334\n"
     ]
    },
    {
     "name": "stderr",
     "output_type": "stream",
     "text": [
      "Exception in thread Thread-8 (generate_and_log_samples):\n",
      "Traceback (most recent call last):\n",
      "  File \"C:\\Users\\Ethan\\anaconda3\\envs\\pythonProject\\lib\\threading.py\", line 1016, in _bootstrap_inner\n",
      "    self.run()\n",
      "  File \"C:\\Users\\Ethan\\anaconda3\\envs\\pythonProject\\lib\\site-packages\\ipykernel\\ipkernel.py\", line 766, in run_closure\n",
      "    _threading_Thread_run(self)\n",
      "  File \"C:\\Users\\Ethan\\anaconda3\\envs\\pythonProject\\lib\\threading.py\", line 953, in run\n",
      "    self._target(*self._args, **self._kwargs)\n",
      "  File \"C:\\Users\\Ethan\\AppData\\Local\\Temp\\ipykernel_6908\\2911061226.py\", line 4, in generate_and_log_samples\n",
      "  File \"C:\\Users\\Ethan\\Documents\\MATH 479 (Math Modelling)\\WaveNet-Implementation\\wavenet_model.py\", line 344, in load_latest_model_from\n",
      "    model = load_to_cpu(newest_file)\n",
      "  File \"C:\\Users\\Ethan\\Documents\\MATH 479 (Math Modelling)\\WaveNet-Implementation\\wavenet_model.py\", line 350, in load_to_cpu\n",
      "    model = torch.load(path, map_location=lambda storage, loc: storage)\n",
      "  File \"C:\\Users\\Ethan\\anaconda3\\envs\\pythonProject\\lib\\site-packages\\torch\\serialization.py\", line 1524, in load\n",
      "    raise pickle.UnpicklingError(_get_wo_message(str(e))) from None\n",
      "_pickle.UnpicklingError: Weights only load failed. This file can still be loaded, to do so you have two options, \u001b[1mdo those steps only if you trust the source of the checkpoint\u001b[0m. \n",
      "\t(1) In PyTorch 2.6, we changed the default value of the `weights_only` argument in `torch.load` from `False` to `True`. Re-running `torch.load` with `weights_only` set to `False` will likely succeed, but it can result in arbitrary code execution. Do it only if you got the file from a trusted source.\n",
      "\t(2) Alternatively, to load with `weights_only=True` please check the recommended steps in the following error message.\n",
      "\tWeightsUnpickler error: Unsupported global: GLOBAL wavenet_model.WaveNetModel was not an allowed global by default. Please use `torch.serialization.add_safe_globals([wavenet_model.WaveNetModel])` or the `torch.serialization.safe_globals([wavenet_model.WaveNetModel])` context manager to allowlist this global if you trust this class/function.\n",
      "\n",
      "Check the documentation of torch.load to learn more about types accepted by default with weights_only https://pytorch.org/docs/stable/generated/torch.load.html.\n"
     ]
    },
    {
     "name": "stdout",
     "output_type": "stream",
     "text": [
      "load model snapshots/chaconne_model_2025-05-03_21-13-54\n",
      "On batch number: 5000 of 15334\n",
      "On batch number: 5250 of 15334\n",
      "On batch number: 5500 of 15334\n",
      "On batch number: 5750 of 15334\n"
     ]
    },
    {
     "name": "stderr",
     "output_type": "stream",
     "text": [
      "Exception in thread Thread-9 (generate_and_log_samples):\n",
      "Traceback (most recent call last):\n",
      "  File \"C:\\Users\\Ethan\\anaconda3\\envs\\pythonProject\\lib\\threading.py\", line 1016, in _bootstrap_inner\n",
      "    self.run()\n",
      "  File \"C:\\Users\\Ethan\\anaconda3\\envs\\pythonProject\\lib\\site-packages\\ipykernel\\ipkernel.py\", line 766, in run_closure\n",
      "    _threading_Thread_run(self)\n",
      "  File \"C:\\Users\\Ethan\\anaconda3\\envs\\pythonProject\\lib\\threading.py\", line 953, in run\n",
      "    self._target(*self._args, **self._kwargs)\n",
      "  File \"C:\\Users\\Ethan\\AppData\\Local\\Temp\\ipykernel_6908\\2911061226.py\", line 4, in generate_and_log_samples\n",
      "  File \"C:\\Users\\Ethan\\Documents\\MATH 479 (Math Modelling)\\WaveNet-Implementation\\wavenet_model.py\", line 344, in load_latest_model_from\n",
      "    model = load_to_cpu(newest_file)\n",
      "  File \"C:\\Users\\Ethan\\Documents\\MATH 479 (Math Modelling)\\WaveNet-Implementation\\wavenet_model.py\", line 350, in load_to_cpu\n",
      "    model = torch.load(path, map_location=lambda storage, loc: storage)\n",
      "  File \"C:\\Users\\Ethan\\anaconda3\\envs\\pythonProject\\lib\\site-packages\\torch\\serialization.py\", line 1524, in load\n",
      "    raise pickle.UnpicklingError(_get_wo_message(str(e))) from None\n",
      "_pickle.UnpicklingError: Weights only load failed. This file can still be loaded, to do so you have two options, \u001b[1mdo those steps only if you trust the source of the checkpoint\u001b[0m. \n",
      "\t(1) In PyTorch 2.6, we changed the default value of the `weights_only` argument in `torch.load` from `False` to `True`. Re-running `torch.load` with `weights_only` set to `False` will likely succeed, but it can result in arbitrary code execution. Do it only if you got the file from a trusted source.\n",
      "\t(2) Alternatively, to load with `weights_only=True` please check the recommended steps in the following error message.\n",
      "\tWeightsUnpickler error: Unsupported global: GLOBAL wavenet_model.WaveNetModel was not an allowed global by default. Please use `torch.serialization.add_safe_globals([wavenet_model.WaveNetModel])` or the `torch.serialization.safe_globals([wavenet_model.WaveNetModel])` context manager to allowlist this global if you trust this class/function.\n",
      "\n",
      "Check the documentation of torch.load to learn more about types accepted by default with weights_only https://pytorch.org/docs/stable/generated/torch.load.html.\n"
     ]
    },
    {
     "name": "stdout",
     "output_type": "stream",
     "text": [
      "load model snapshots/chaconne_model_2025-05-03_21-26-06\n",
      "On batch number: 6000 of 15334\n",
      "On batch number: 6250 of 15334\n",
      "On batch number: 6500 of 15334\n",
      "On batch number: 6750 of 15334\n"
     ]
    },
    {
     "name": "stderr",
     "output_type": "stream",
     "text": [
      "Exception in thread Thread-10 (generate_and_log_samples):\n",
      "Traceback (most recent call last):\n",
      "  File \"C:\\Users\\Ethan\\anaconda3\\envs\\pythonProject\\lib\\threading.py\", line 1016, in _bootstrap_inner\n",
      "    self.run()\n",
      "  File \"C:\\Users\\Ethan\\anaconda3\\envs\\pythonProject\\lib\\site-packages\\ipykernel\\ipkernel.py\", line 766, in run_closure\n",
      "    _threading_Thread_run(self)\n",
      "  File \"C:\\Users\\Ethan\\anaconda3\\envs\\pythonProject\\lib\\threading.py\", line 953, in run\n",
      "    self._target(*self._args, **self._kwargs)\n",
      "  File \"C:\\Users\\Ethan\\AppData\\Local\\Temp\\ipykernel_6908\\2911061226.py\", line 4, in generate_and_log_samples\n",
      "  File \"C:\\Users\\Ethan\\Documents\\MATH 479 (Math Modelling)\\WaveNet-Implementation\\wavenet_model.py\", line 344, in load_latest_model_from\n",
      "    model = load_to_cpu(newest_file)\n",
      "  File \"C:\\Users\\Ethan\\Documents\\MATH 479 (Math Modelling)\\WaveNet-Implementation\\wavenet_model.py\", line 350, in load_to_cpu\n",
      "    model = torch.load(path, map_location=lambda storage, loc: storage)\n",
      "  File \"C:\\Users\\Ethan\\anaconda3\\envs\\pythonProject\\lib\\site-packages\\torch\\serialization.py\", line 1524, in load\n",
      "    raise pickle.UnpicklingError(_get_wo_message(str(e))) from None\n",
      "_pickle.UnpicklingError: Weights only load failed. This file can still be loaded, to do so you have two options, \u001b[1mdo those steps only if you trust the source of the checkpoint\u001b[0m. \n",
      "\t(1) In PyTorch 2.6, we changed the default value of the `weights_only` argument in `torch.load` from `False` to `True`. Re-running `torch.load` with `weights_only` set to `False` will likely succeed, but it can result in arbitrary code execution. Do it only if you got the file from a trusted source.\n",
      "\t(2) Alternatively, to load with `weights_only=True` please check the recommended steps in the following error message.\n",
      "\tWeightsUnpickler error: Unsupported global: GLOBAL wavenet_model.WaveNetModel was not an allowed global by default. Please use `torch.serialization.add_safe_globals([wavenet_model.WaveNetModel])` or the `torch.serialization.safe_globals([wavenet_model.WaveNetModel])` context manager to allowlist this global if you trust this class/function.\n",
      "\n",
      "Check the documentation of torch.load to learn more about types accepted by default with weights_only https://pytorch.org/docs/stable/generated/torch.load.html.\n"
     ]
    },
    {
     "name": "stdout",
     "output_type": "stream",
     "text": [
      "load model snapshots/chaconne_model_2025-05-03_21-39-23\n",
      "On batch number: 7000 of 15334\n",
      "On batch number: 7250 of 15334\n",
      "On batch number: 7500 of 15334\n",
      "On batch number: 7750 of 15334\n"
     ]
    },
    {
     "name": "stderr",
     "output_type": "stream",
     "text": [
      "Exception in thread Thread-11 (generate_and_log_samples):\n",
      "Traceback (most recent call last):\n",
      "  File \"C:\\Users\\Ethan\\anaconda3\\envs\\pythonProject\\lib\\threading.py\", line 1016, in _bootstrap_inner\n",
      "    self.run()\n",
      "  File \"C:\\Users\\Ethan\\anaconda3\\envs\\pythonProject\\lib\\site-packages\\ipykernel\\ipkernel.py\", line 766, in run_closure\n",
      "    _threading_Thread_run(self)\n",
      "  File \"C:\\Users\\Ethan\\anaconda3\\envs\\pythonProject\\lib\\threading.py\", line 953, in run\n",
      "    self._target(*self._args, **self._kwargs)\n",
      "  File \"C:\\Users\\Ethan\\AppData\\Local\\Temp\\ipykernel_6908\\2911061226.py\", line 4, in generate_and_log_samples\n",
      "  File \"C:\\Users\\Ethan\\Documents\\MATH 479 (Math Modelling)\\WaveNet-Implementation\\wavenet_model.py\", line 344, in load_latest_model_from\n",
      "    model = load_to_cpu(newest_file)\n",
      "  File \"C:\\Users\\Ethan\\Documents\\MATH 479 (Math Modelling)\\WaveNet-Implementation\\wavenet_model.py\", line 350, in load_to_cpu\n",
      "    model = torch.load(path, map_location=lambda storage, loc: storage)\n",
      "  File \"C:\\Users\\Ethan\\anaconda3\\envs\\pythonProject\\lib\\site-packages\\torch\\serialization.py\", line 1524, in load\n",
      "    raise pickle.UnpicklingError(_get_wo_message(str(e))) from None\n",
      "_pickle.UnpicklingError: Weights only load failed. This file can still be loaded, to do so you have two options, \u001b[1mdo those steps only if you trust the source of the checkpoint\u001b[0m. \n",
      "\t(1) In PyTorch 2.6, we changed the default value of the `weights_only` argument in `torch.load` from `False` to `True`. Re-running `torch.load` with `weights_only` set to `False` will likely succeed, but it can result in arbitrary code execution. Do it only if you got the file from a trusted source.\n",
      "\t(2) Alternatively, to load with `weights_only=True` please check the recommended steps in the following error message.\n",
      "\tWeightsUnpickler error: Unsupported global: GLOBAL wavenet_model.WaveNetModel was not an allowed global by default. Please use `torch.serialization.add_safe_globals([wavenet_model.WaveNetModel])` or the `torch.serialization.safe_globals([wavenet_model.WaveNetModel])` context manager to allowlist this global if you trust this class/function.\n",
      "\n",
      "Check the documentation of torch.load to learn more about types accepted by default with weights_only https://pytorch.org/docs/stable/generated/torch.load.html.\n"
     ]
    },
    {
     "name": "stdout",
     "output_type": "stream",
     "text": [
      "load model snapshots/chaconne_model_2025-05-03_21-51-12\n",
      "On batch number: 8000 of 15334\n",
      "On batch number: 8250 of 15334\n",
      "On batch number: 8500 of 15334\n",
      "On batch number: 8750 of 15334\n"
     ]
    },
    {
     "name": "stderr",
     "output_type": "stream",
     "text": [
      "Exception in thread Thread-12 (generate_and_log_samples):\n",
      "Traceback (most recent call last):\n",
      "  File \"C:\\Users\\Ethan\\anaconda3\\envs\\pythonProject\\lib\\threading.py\", line 1016, in _bootstrap_inner\n",
      "    self.run()\n",
      "  File \"C:\\Users\\Ethan\\anaconda3\\envs\\pythonProject\\lib\\site-packages\\ipykernel\\ipkernel.py\", line 766, in run_closure\n",
      "    _threading_Thread_run(self)\n",
      "  File \"C:\\Users\\Ethan\\anaconda3\\envs\\pythonProject\\lib\\threading.py\", line 953, in run\n",
      "    self._target(*self._args, **self._kwargs)\n",
      "  File \"C:\\Users\\Ethan\\AppData\\Local\\Temp\\ipykernel_6908\\2911061226.py\", line 4, in generate_and_log_samples\n",
      "  File \"C:\\Users\\Ethan\\Documents\\MATH 479 (Math Modelling)\\WaveNet-Implementation\\wavenet_model.py\", line 344, in load_latest_model_from\n",
      "    model = load_to_cpu(newest_file)\n",
      "  File \"C:\\Users\\Ethan\\Documents\\MATH 479 (Math Modelling)\\WaveNet-Implementation\\wavenet_model.py\", line 350, in load_to_cpu\n",
      "    model = torch.load(path, map_location=lambda storage, loc: storage)\n",
      "  File \"C:\\Users\\Ethan\\anaconda3\\envs\\pythonProject\\lib\\site-packages\\torch\\serialization.py\", line 1524, in load\n",
      "    raise pickle.UnpicklingError(_get_wo_message(str(e))) from None\n",
      "_pickle.UnpicklingError: Weights only load failed. This file can still be loaded, to do so you have two options, \u001b[1mdo those steps only if you trust the source of the checkpoint\u001b[0m. \n",
      "\t(1) In PyTorch 2.6, we changed the default value of the `weights_only` argument in `torch.load` from `False` to `True`. Re-running `torch.load` with `weights_only` set to `False` will likely succeed, but it can result in arbitrary code execution. Do it only if you got the file from a trusted source.\n",
      "\t(2) Alternatively, to load with `weights_only=True` please check the recommended steps in the following error message.\n",
      "\tWeightsUnpickler error: Unsupported global: GLOBAL wavenet_model.WaveNetModel was not an allowed global by default. Please use `torch.serialization.add_safe_globals([wavenet_model.WaveNetModel])` or the `torch.serialization.safe_globals([wavenet_model.WaveNetModel])` context manager to allowlist this global if you trust this class/function.\n",
      "\n",
      "Check the documentation of torch.load to learn more about types accepted by default with weights_only https://pytorch.org/docs/stable/generated/torch.load.html.\n"
     ]
    },
    {
     "name": "stdout",
     "output_type": "stream",
     "text": [
      "load model snapshots/chaconne_model_2025-05-03_22-04-29\n",
      "On batch number: 9000 of 15334\n",
      "On batch number: 9250 of 15334\n",
      "On batch number: 9500 of 15334\n",
      "On batch number: 9750 of 15334\n"
     ]
    },
    {
     "name": "stderr",
     "output_type": "stream",
     "text": [
      "Exception in thread Thread-13 (generate_and_log_samples):\n",
      "Traceback (most recent call last):\n",
      "  File \"C:\\Users\\Ethan\\anaconda3\\envs\\pythonProject\\lib\\threading.py\", line 1016, in _bootstrap_inner\n",
      "    self.run()\n",
      "  File \"C:\\Users\\Ethan\\anaconda3\\envs\\pythonProject\\lib\\site-packages\\ipykernel\\ipkernel.py\", line 766, in run_closure\n",
      "    _threading_Thread_run(self)\n",
      "  File \"C:\\Users\\Ethan\\anaconda3\\envs\\pythonProject\\lib\\threading.py\", line 953, in run\n",
      "    self._target(*self._args, **self._kwargs)\n",
      "  File \"C:\\Users\\Ethan\\AppData\\Local\\Temp\\ipykernel_6908\\2911061226.py\", line 4, in generate_and_log_samples\n",
      "  File \"C:\\Users\\Ethan\\Documents\\MATH 479 (Math Modelling)\\WaveNet-Implementation\\wavenet_model.py\", line 344, in load_latest_model_from\n",
      "    model = load_to_cpu(newest_file)\n",
      "  File \"C:\\Users\\Ethan\\Documents\\MATH 479 (Math Modelling)\\WaveNet-Implementation\\wavenet_model.py\", line 350, in load_to_cpu\n",
      "    model = torch.load(path, map_location=lambda storage, loc: storage)\n",
      "  File \"C:\\Users\\Ethan\\anaconda3\\envs\\pythonProject\\lib\\site-packages\\torch\\serialization.py\", line 1524, in load\n",
      "    raise pickle.UnpicklingError(_get_wo_message(str(e))) from None\n",
      "_pickle.UnpicklingError: Weights only load failed. This file can still be loaded, to do so you have two options, \u001b[1mdo those steps only if you trust the source of the checkpoint\u001b[0m. \n",
      "\t(1) In PyTorch 2.6, we changed the default value of the `weights_only` argument in `torch.load` from `False` to `True`. Re-running `torch.load` with `weights_only` set to `False` will likely succeed, but it can result in arbitrary code execution. Do it only if you got the file from a trusted source.\n",
      "\t(2) Alternatively, to load with `weights_only=True` please check the recommended steps in the following error message.\n",
      "\tWeightsUnpickler error: Unsupported global: GLOBAL wavenet_model.WaveNetModel was not an allowed global by default. Please use `torch.serialization.add_safe_globals([wavenet_model.WaveNetModel])` or the `torch.serialization.safe_globals([wavenet_model.WaveNetModel])` context manager to allowlist this global if you trust this class/function.\n",
      "\n",
      "Check the documentation of torch.load to learn more about types accepted by default with weights_only https://pytorch.org/docs/stable/generated/torch.load.html.\n"
     ]
    },
    {
     "name": "stdout",
     "output_type": "stream",
     "text": [
      "load model snapshots/chaconne_model_2025-05-03_22-17-06\n",
      "On batch number: 10000 of 15334\n",
      "On batch number: 10250 of 15334\n",
      "On batch number: 10500 of 15334\n",
      "On batch number: 10750 of 15334\n"
     ]
    },
    {
     "name": "stderr",
     "output_type": "stream",
     "text": [
      "Exception in thread Thread-14 (generate_and_log_samples):\n",
      "Traceback (most recent call last):\n",
      "  File \"C:\\Users\\Ethan\\anaconda3\\envs\\pythonProject\\lib\\threading.py\", line 1016, in _bootstrap_inner\n",
      "    self.run()\n",
      "  File \"C:\\Users\\Ethan\\anaconda3\\envs\\pythonProject\\lib\\site-packages\\ipykernel\\ipkernel.py\", line 766, in run_closure\n",
      "    _threading_Thread_run(self)\n",
      "  File \"C:\\Users\\Ethan\\anaconda3\\envs\\pythonProject\\lib\\threading.py\", line 953, in run\n",
      "    self._target(*self._args, **self._kwargs)\n",
      "  File \"C:\\Users\\Ethan\\AppData\\Local\\Temp\\ipykernel_6908\\2911061226.py\", line 4, in generate_and_log_samples\n",
      "  File \"C:\\Users\\Ethan\\Documents\\MATH 479 (Math Modelling)\\WaveNet-Implementation\\wavenet_model.py\", line 344, in load_latest_model_from\n",
      "    model = load_to_cpu(newest_file)\n",
      "  File \"C:\\Users\\Ethan\\Documents\\MATH 479 (Math Modelling)\\WaveNet-Implementation\\wavenet_model.py\", line 350, in load_to_cpu\n",
      "    model = torch.load(path, map_location=lambda storage, loc: storage)\n",
      "  File \"C:\\Users\\Ethan\\anaconda3\\envs\\pythonProject\\lib\\site-packages\\torch\\serialization.py\", line 1524, in load\n",
      "    raise pickle.UnpicklingError(_get_wo_message(str(e))) from None\n",
      "_pickle.UnpicklingError: Weights only load failed. This file can still be loaded, to do so you have two options, \u001b[1mdo those steps only if you trust the source of the checkpoint\u001b[0m. \n",
      "\t(1) In PyTorch 2.6, we changed the default value of the `weights_only` argument in `torch.load` from `False` to `True`. Re-running `torch.load` with `weights_only` set to `False` will likely succeed, but it can result in arbitrary code execution. Do it only if you got the file from a trusted source.\n",
      "\t(2) Alternatively, to load with `weights_only=True` please check the recommended steps in the following error message.\n",
      "\tWeightsUnpickler error: Unsupported global: GLOBAL wavenet_model.WaveNetModel was not an allowed global by default. Please use `torch.serialization.add_safe_globals([wavenet_model.WaveNetModel])` or the `torch.serialization.safe_globals([wavenet_model.WaveNetModel])` context manager to allowlist this global if you trust this class/function.\n",
      "\n",
      "Check the documentation of torch.load to learn more about types accepted by default with weights_only https://pytorch.org/docs/stable/generated/torch.load.html.\n"
     ]
    },
    {
     "name": "stdout",
     "output_type": "stream",
     "text": [
      "load model snapshots/chaconne_model_2025-05-03_22-30-30\n",
      "On batch number: 11000 of 15334\n",
      "On batch number: 11250 of 15334\n",
      "On batch number: 11500 of 15334\n",
      "On batch number: 11750 of 15334\n"
     ]
    },
    {
     "name": "stderr",
     "output_type": "stream",
     "text": [
      "Exception in thread Thread-15 (generate_and_log_samples):\n",
      "Traceback (most recent call last):\n",
      "  File \"C:\\Users\\Ethan\\anaconda3\\envs\\pythonProject\\lib\\threading.py\", line 1016, in _bootstrap_inner\n",
      "    self.run()\n",
      "  File \"C:\\Users\\Ethan\\anaconda3\\envs\\pythonProject\\lib\\site-packages\\ipykernel\\ipkernel.py\", line 766, in run_closure\n",
      "    _threading_Thread_run(self)\n",
      "  File \"C:\\Users\\Ethan\\anaconda3\\envs\\pythonProject\\lib\\threading.py\", line 953, in run\n",
      "    self._target(*self._args, **self._kwargs)\n",
      "  File \"C:\\Users\\Ethan\\AppData\\Local\\Temp\\ipykernel_6908\\2911061226.py\", line 4, in generate_and_log_samples\n",
      "  File \"C:\\Users\\Ethan\\Documents\\MATH 479 (Math Modelling)\\WaveNet-Implementation\\wavenet_model.py\", line 344, in load_latest_model_from\n",
      "    model = load_to_cpu(newest_file)\n",
      "  File \"C:\\Users\\Ethan\\Documents\\MATH 479 (Math Modelling)\\WaveNet-Implementation\\wavenet_model.py\", line 350, in load_to_cpu\n",
      "    model = torch.load(path, map_location=lambda storage, loc: storage)\n",
      "  File \"C:\\Users\\Ethan\\anaconda3\\envs\\pythonProject\\lib\\site-packages\\torch\\serialization.py\", line 1524, in load\n",
      "    raise pickle.UnpicklingError(_get_wo_message(str(e))) from None\n",
      "_pickle.UnpicklingError: Weights only load failed. This file can still be loaded, to do so you have two options, \u001b[1mdo those steps only if you trust the source of the checkpoint\u001b[0m. \n",
      "\t(1) In PyTorch 2.6, we changed the default value of the `weights_only` argument in `torch.load` from `False` to `True`. Re-running `torch.load` with `weights_only` set to `False` will likely succeed, but it can result in arbitrary code execution. Do it only if you got the file from a trusted source.\n",
      "\t(2) Alternatively, to load with `weights_only=True` please check the recommended steps in the following error message.\n",
      "\tWeightsUnpickler error: Unsupported global: GLOBAL wavenet_model.WaveNetModel was not an allowed global by default. Please use `torch.serialization.add_safe_globals([wavenet_model.WaveNetModel])` or the `torch.serialization.safe_globals([wavenet_model.WaveNetModel])` context manager to allowlist this global if you trust this class/function.\n",
      "\n",
      "Check the documentation of torch.load to learn more about types accepted by default with weights_only https://pytorch.org/docs/stable/generated/torch.load.html.\n"
     ]
    },
    {
     "name": "stdout",
     "output_type": "stream",
     "text": [
      "load model snapshots/chaconne_model_2025-05-03_22-42-17\n",
      "On batch number: 12000 of 15334\n",
      "On batch number: 12250 of 15334\n",
      "On batch number: 12500 of 15334\n",
      "On batch number: 12750 of 15334\n"
     ]
    },
    {
     "name": "stderr",
     "output_type": "stream",
     "text": [
      "Exception in thread Thread-16 (generate_and_log_samples):\n",
      "Traceback (most recent call last):\n",
      "  File \"C:\\Users\\Ethan\\anaconda3\\envs\\pythonProject\\lib\\threading.py\", line 1016, in _bootstrap_inner\n",
      "    self.run()\n",
      "  File \"C:\\Users\\Ethan\\anaconda3\\envs\\pythonProject\\lib\\site-packages\\ipykernel\\ipkernel.py\", line 766, in run_closure\n",
      "    _threading_Thread_run(self)\n",
      "  File \"C:\\Users\\Ethan\\anaconda3\\envs\\pythonProject\\lib\\threading.py\", line 953, in run\n",
      "    self._target(*self._args, **self._kwargs)\n",
      "  File \"C:\\Users\\Ethan\\AppData\\Local\\Temp\\ipykernel_6908\\2911061226.py\", line 4, in generate_and_log_samples\n",
      "  File \"C:\\Users\\Ethan\\Documents\\MATH 479 (Math Modelling)\\WaveNet-Implementation\\wavenet_model.py\", line 344, in load_latest_model_from\n",
      "    model = load_to_cpu(newest_file)\n",
      "  File \"C:\\Users\\Ethan\\Documents\\MATH 479 (Math Modelling)\\WaveNet-Implementation\\wavenet_model.py\", line 350, in load_to_cpu\n",
      "    model = torch.load(path, map_location=lambda storage, loc: storage)\n",
      "  File \"C:\\Users\\Ethan\\anaconda3\\envs\\pythonProject\\lib\\site-packages\\torch\\serialization.py\", line 1524, in load\n",
      "    raise pickle.UnpicklingError(_get_wo_message(str(e))) from None\n",
      "_pickle.UnpicklingError: Weights only load failed. This file can still be loaded, to do so you have two options, \u001b[1mdo those steps only if you trust the source of the checkpoint\u001b[0m. \n",
      "\t(1) In PyTorch 2.6, we changed the default value of the `weights_only` argument in `torch.load` from `False` to `True`. Re-running `torch.load` with `weights_only` set to `False` will likely succeed, but it can result in arbitrary code execution. Do it only if you got the file from a trusted source.\n",
      "\t(2) Alternatively, to load with `weights_only=True` please check the recommended steps in the following error message.\n",
      "\tWeightsUnpickler error: Unsupported global: GLOBAL wavenet_model.WaveNetModel was not an allowed global by default. Please use `torch.serialization.add_safe_globals([wavenet_model.WaveNetModel])` or the `torch.serialization.safe_globals([wavenet_model.WaveNetModel])` context manager to allowlist this global if you trust this class/function.\n",
      "\n",
      "Check the documentation of torch.load to learn more about types accepted by default with weights_only https://pytorch.org/docs/stable/generated/torch.load.html.\n"
     ]
    },
    {
     "name": "stdout",
     "output_type": "stream",
     "text": [
      "load model snapshots/chaconne_model_2025-05-03_22-55-15\n",
      "On batch number: 13000 of 15334\n",
      "On batch number: 13250 of 15334\n",
      "On batch number: 13500 of 15334\n",
      "On batch number: 13750 of 15334\n"
     ]
    },
    {
     "name": "stderr",
     "output_type": "stream",
     "text": [
      "Exception in thread Thread-17 (generate_and_log_samples):\n",
      "Traceback (most recent call last):\n",
      "  File \"C:\\Users\\Ethan\\anaconda3\\envs\\pythonProject\\lib\\threading.py\", line 1016, in _bootstrap_inner\n",
      "    self.run()\n",
      "  File \"C:\\Users\\Ethan\\anaconda3\\envs\\pythonProject\\lib\\site-packages\\ipykernel\\ipkernel.py\", line 766, in run_closure\n",
      "    _threading_Thread_run(self)\n",
      "  File \"C:\\Users\\Ethan\\anaconda3\\envs\\pythonProject\\lib\\threading.py\", line 953, in run\n",
      "    self._target(*self._args, **self._kwargs)\n",
      "  File \"C:\\Users\\Ethan\\AppData\\Local\\Temp\\ipykernel_6908\\2911061226.py\", line 4, in generate_and_log_samples\n",
      "  File \"C:\\Users\\Ethan\\Documents\\MATH 479 (Math Modelling)\\WaveNet-Implementation\\wavenet_model.py\", line 344, in load_latest_model_from\n",
      "    model = load_to_cpu(newest_file)\n",
      "  File \"C:\\Users\\Ethan\\Documents\\MATH 479 (Math Modelling)\\WaveNet-Implementation\\wavenet_model.py\", line 350, in load_to_cpu\n",
      "    model = torch.load(path, map_location=lambda storage, loc: storage)\n",
      "  File \"C:\\Users\\Ethan\\anaconda3\\envs\\pythonProject\\lib\\site-packages\\torch\\serialization.py\", line 1524, in load\n",
      "    raise pickle.UnpicklingError(_get_wo_message(str(e))) from None\n",
      "_pickle.UnpicklingError: Weights only load failed. This file can still be loaded, to do so you have two options, \u001b[1mdo those steps only if you trust the source of the checkpoint\u001b[0m. \n",
      "\t(1) In PyTorch 2.6, we changed the default value of the `weights_only` argument in `torch.load` from `False` to `True`. Re-running `torch.load` with `weights_only` set to `False` will likely succeed, but it can result in arbitrary code execution. Do it only if you got the file from a trusted source.\n",
      "\t(2) Alternatively, to load with `weights_only=True` please check the recommended steps in the following error message.\n",
      "\tWeightsUnpickler error: Unsupported global: GLOBAL wavenet_model.WaveNetModel was not an allowed global by default. Please use `torch.serialization.add_safe_globals([wavenet_model.WaveNetModel])` or the `torch.serialization.safe_globals([wavenet_model.WaveNetModel])` context manager to allowlist this global if you trust this class/function.\n",
      "\n",
      "Check the documentation of torch.load to learn more about types accepted by default with weights_only https://pytorch.org/docs/stable/generated/torch.load.html.\n"
     ]
    },
    {
     "name": "stdout",
     "output_type": "stream",
     "text": [
      "load model snapshots/chaconne_model_2025-05-03_23-06-30\n",
      "On batch number: 14000 of 15334\n",
      "On batch number: 14250 of 15334\n",
      "On batch number: 14500 of 15334\n",
      "On batch number: 14750 of 15334\n"
     ]
    },
    {
     "name": "stderr",
     "output_type": "stream",
     "text": [
      "Exception in thread Thread-18 (generate_and_log_samples):\n",
      "Traceback (most recent call last):\n",
      "  File \"C:\\Users\\Ethan\\anaconda3\\envs\\pythonProject\\lib\\threading.py\", line 1016, in _bootstrap_inner\n",
      "    self.run()\n",
      "  File \"C:\\Users\\Ethan\\anaconda3\\envs\\pythonProject\\lib\\site-packages\\ipykernel\\ipkernel.py\", line 766, in run_closure\n",
      "    _threading_Thread_run(self)\n",
      "  File \"C:\\Users\\Ethan\\anaconda3\\envs\\pythonProject\\lib\\threading.py\", line 953, in run\n",
      "    self._target(*self._args, **self._kwargs)\n",
      "  File \"C:\\Users\\Ethan\\AppData\\Local\\Temp\\ipykernel_6908\\2911061226.py\", line 4, in generate_and_log_samples\n",
      "  File \"C:\\Users\\Ethan\\Documents\\MATH 479 (Math Modelling)\\WaveNet-Implementation\\wavenet_model.py\", line 344, in load_latest_model_from\n",
      "    model = load_to_cpu(newest_file)\n",
      "  File \"C:\\Users\\Ethan\\Documents\\MATH 479 (Math Modelling)\\WaveNet-Implementation\\wavenet_model.py\", line 350, in load_to_cpu\n",
      "    model = torch.load(path, map_location=lambda storage, loc: storage)\n",
      "  File \"C:\\Users\\Ethan\\anaconda3\\envs\\pythonProject\\lib\\site-packages\\torch\\serialization.py\", line 1524, in load\n",
      "    raise pickle.UnpicklingError(_get_wo_message(str(e))) from None\n",
      "_pickle.UnpicklingError: Weights only load failed. This file can still be loaded, to do so you have two options, \u001b[1mdo those steps only if you trust the source of the checkpoint\u001b[0m. \n",
      "\t(1) In PyTorch 2.6, we changed the default value of the `weights_only` argument in `torch.load` from `False` to `True`. Re-running `torch.load` with `weights_only` set to `False` will likely succeed, but it can result in arbitrary code execution. Do it only if you got the file from a trusted source.\n",
      "\t(2) Alternatively, to load with `weights_only=True` please check the recommended steps in the following error message.\n",
      "\tWeightsUnpickler error: Unsupported global: GLOBAL wavenet_model.WaveNetModel was not an allowed global by default. Please use `torch.serialization.add_safe_globals([wavenet_model.WaveNetModel])` or the `torch.serialization.safe_globals([wavenet_model.WaveNetModel])` context manager to allowlist this global if you trust this class/function.\n",
      "\n",
      "Check the documentation of torch.load to learn more about types accepted by default with weights_only https://pytorch.org/docs/stable/generated/torch.load.html.\n"
     ]
    },
    {
     "name": "stdout",
     "output_type": "stream",
     "text": [
      "load model snapshots/chaconne_model_2025-05-03_23-18-44\n",
      "On batch number: 15000 of 15334\n",
      "On batch number: 15250 of 15334\n",
      "epoch 1\n",
      "On batch number: 15500 of 15334\n",
      "On batch number: 15750 of 15334\n"
     ]
    },
    {
     "name": "stderr",
     "output_type": "stream",
     "text": [
      "Exception in thread Thread-19 (generate_and_log_samples):\n",
      "Traceback (most recent call last):\n",
      "  File \"C:\\Users\\Ethan\\anaconda3\\envs\\pythonProject\\lib\\threading.py\", line 1016, in _bootstrap_inner\n",
      "    self.run()\n",
      "  File \"C:\\Users\\Ethan\\anaconda3\\envs\\pythonProject\\lib\\site-packages\\ipykernel\\ipkernel.py\", line 766, in run_closure\n",
      "    _threading_Thread_run(self)\n",
      "  File \"C:\\Users\\Ethan\\anaconda3\\envs\\pythonProject\\lib\\threading.py\", line 953, in run\n",
      "    self._target(*self._args, **self._kwargs)\n",
      "  File \"C:\\Users\\Ethan\\AppData\\Local\\Temp\\ipykernel_6908\\2911061226.py\", line 4, in generate_and_log_samples\n",
      "  File \"C:\\Users\\Ethan\\Documents\\MATH 479 (Math Modelling)\\WaveNet-Implementation\\wavenet_model.py\", line 344, in load_latest_model_from\n",
      "    model = load_to_cpu(newest_file)\n",
      "  File \"C:\\Users\\Ethan\\Documents\\MATH 479 (Math Modelling)\\WaveNet-Implementation\\wavenet_model.py\", line 350, in load_to_cpu\n",
      "    model = torch.load(path, map_location=lambda storage, loc: storage)\n",
      "  File \"C:\\Users\\Ethan\\anaconda3\\envs\\pythonProject\\lib\\site-packages\\torch\\serialization.py\", line 1524, in load\n",
      "    raise pickle.UnpicklingError(_get_wo_message(str(e))) from None\n",
      "_pickle.UnpicklingError: Weights only load failed. This file can still be loaded, to do so you have two options, \u001b[1mdo those steps only if you trust the source of the checkpoint\u001b[0m. \n",
      "\t(1) In PyTorch 2.6, we changed the default value of the `weights_only` argument in `torch.load` from `False` to `True`. Re-running `torch.load` with `weights_only` set to `False` will likely succeed, but it can result in arbitrary code execution. Do it only if you got the file from a trusted source.\n",
      "\t(2) Alternatively, to load with `weights_only=True` please check the recommended steps in the following error message.\n",
      "\tWeightsUnpickler error: Unsupported global: GLOBAL wavenet_model.WaveNetModel was not an allowed global by default. Please use `torch.serialization.add_safe_globals([wavenet_model.WaveNetModel])` or the `torch.serialization.safe_globals([wavenet_model.WaveNetModel])` context manager to allowlist this global if you trust this class/function.\n",
      "\n",
      "Check the documentation of torch.load to learn more about types accepted by default with weights_only https://pytorch.org/docs/stable/generated/torch.load.html.\n"
     ]
    },
    {
     "name": "stdout",
     "output_type": "stream",
     "text": [
      "load model snapshots/chaconne_model_2025-05-03_23-30-18\n",
      "On batch number: 16000 of 15334\n",
      "On batch number: 16250 of 15334\n",
      "On batch number: 16500 of 15334\n",
      "On batch number: 16750 of 15334\n"
     ]
    },
    {
     "name": "stderr",
     "output_type": "stream",
     "text": [
      "Exception in thread Thread-20 (generate_and_log_samples):\n",
      "Traceback (most recent call last):\n",
      "  File \"C:\\Users\\Ethan\\anaconda3\\envs\\pythonProject\\lib\\threading.py\", line 1016, in _bootstrap_inner\n",
      "    self.run()\n",
      "  File \"C:\\Users\\Ethan\\anaconda3\\envs\\pythonProject\\lib\\site-packages\\ipykernel\\ipkernel.py\", line 766, in run_closure\n",
      "    _threading_Thread_run(self)\n",
      "  File \"C:\\Users\\Ethan\\anaconda3\\envs\\pythonProject\\lib\\threading.py\", line 953, in run\n",
      "    self._target(*self._args, **self._kwargs)\n",
      "  File \"C:\\Users\\Ethan\\AppData\\Local\\Temp\\ipykernel_6908\\2911061226.py\", line 4, in generate_and_log_samples\n",
      "  File \"C:\\Users\\Ethan\\Documents\\MATH 479 (Math Modelling)\\WaveNet-Implementation\\wavenet_model.py\", line 344, in load_latest_model_from\n",
      "    model = load_to_cpu(newest_file)\n",
      "  File \"C:\\Users\\Ethan\\Documents\\MATH 479 (Math Modelling)\\WaveNet-Implementation\\wavenet_model.py\", line 350, in load_to_cpu\n",
      "    model = torch.load(path, map_location=lambda storage, loc: storage)\n",
      "  File \"C:\\Users\\Ethan\\anaconda3\\envs\\pythonProject\\lib\\site-packages\\torch\\serialization.py\", line 1524, in load\n",
      "    raise pickle.UnpicklingError(_get_wo_message(str(e))) from None\n",
      "_pickle.UnpicklingError: Weights only load failed. This file can still be loaded, to do so you have two options, \u001b[1mdo those steps only if you trust the source of the checkpoint\u001b[0m. \n",
      "\t(1) In PyTorch 2.6, we changed the default value of the `weights_only` argument in `torch.load` from `False` to `True`. Re-running `torch.load` with `weights_only` set to `False` will likely succeed, but it can result in arbitrary code execution. Do it only if you got the file from a trusted source.\n",
      "\t(2) Alternatively, to load with `weights_only=True` please check the recommended steps in the following error message.\n",
      "\tWeightsUnpickler error: Unsupported global: GLOBAL wavenet_model.WaveNetModel was not an allowed global by default. Please use `torch.serialization.add_safe_globals([wavenet_model.WaveNetModel])` or the `torch.serialization.safe_globals([wavenet_model.WaveNetModel])` context manager to allowlist this global if you trust this class/function.\n",
      "\n",
      "Check the documentation of torch.load to learn more about types accepted by default with weights_only https://pytorch.org/docs/stable/generated/torch.load.html.\n"
     ]
    },
    {
     "name": "stdout",
     "output_type": "stream",
     "text": [
      "load model snapshots/chaconne_model_2025-05-03_23-43-01\n",
      "On batch number: 17000 of 15334\n",
      "On batch number: 17250 of 15334\n",
      "On batch number: 17500 of 15334\n",
      "On batch number: 17750 of 15334\n"
     ]
    },
    {
     "name": "stderr",
     "output_type": "stream",
     "text": [
      "Exception in thread Thread-21 (generate_and_log_samples):\n",
      "Traceback (most recent call last):\n",
      "  File \"C:\\Users\\Ethan\\anaconda3\\envs\\pythonProject\\lib\\threading.py\", line 1016, in _bootstrap_inner\n",
      "    self.run()\n",
      "  File \"C:\\Users\\Ethan\\anaconda3\\envs\\pythonProject\\lib\\site-packages\\ipykernel\\ipkernel.py\", line 766, in run_closure\n",
      "    _threading_Thread_run(self)\n",
      "  File \"C:\\Users\\Ethan\\anaconda3\\envs\\pythonProject\\lib\\threading.py\", line 953, in run\n",
      "    self._target(*self._args, **self._kwargs)\n",
      "  File \"C:\\Users\\Ethan\\AppData\\Local\\Temp\\ipykernel_6908\\2911061226.py\", line 4, in generate_and_log_samples\n",
      "  File \"C:\\Users\\Ethan\\Documents\\MATH 479 (Math Modelling)\\WaveNet-Implementation\\wavenet_model.py\", line 344, in load_latest_model_from\n",
      "    model = load_to_cpu(newest_file)\n",
      "  File \"C:\\Users\\Ethan\\Documents\\MATH 479 (Math Modelling)\\WaveNet-Implementation\\wavenet_model.py\", line 350, in load_to_cpu\n",
      "    model = torch.load(path, map_location=lambda storage, loc: storage)\n",
      "  File \"C:\\Users\\Ethan\\anaconda3\\envs\\pythonProject\\lib\\site-packages\\torch\\serialization.py\", line 1524, in load\n",
      "    raise pickle.UnpicklingError(_get_wo_message(str(e))) from None\n",
      "_pickle.UnpicklingError: Weights only load failed. This file can still be loaded, to do so you have two options, \u001b[1mdo those steps only if you trust the source of the checkpoint\u001b[0m. \n",
      "\t(1) In PyTorch 2.6, we changed the default value of the `weights_only` argument in `torch.load` from `False` to `True`. Re-running `torch.load` with `weights_only` set to `False` will likely succeed, but it can result in arbitrary code execution. Do it only if you got the file from a trusted source.\n",
      "\t(2) Alternatively, to load with `weights_only=True` please check the recommended steps in the following error message.\n",
      "\tWeightsUnpickler error: Unsupported global: GLOBAL wavenet_model.WaveNetModel was not an allowed global by default. Please use `torch.serialization.add_safe_globals([wavenet_model.WaveNetModel])` or the `torch.serialization.safe_globals([wavenet_model.WaveNetModel])` context manager to allowlist this global if you trust this class/function.\n",
      "\n",
      "Check the documentation of torch.load to learn more about types accepted by default with weights_only https://pytorch.org/docs/stable/generated/torch.load.html.\n"
     ]
    },
    {
     "name": "stdout",
     "output_type": "stream",
     "text": [
      "load model snapshots/chaconne_model_2025-05-03_23-54-17\n",
      "On batch number: 18000 of 15334\n",
      "On batch number: 18250 of 15334\n",
      "On batch number: 18500 of 15334\n",
      "On batch number: 18750 of 15334\n"
     ]
    },
    {
     "name": "stderr",
     "output_type": "stream",
     "text": [
      "Exception in thread Thread-22 (generate_and_log_samples):\n",
      "Traceback (most recent call last):\n",
      "  File \"C:\\Users\\Ethan\\anaconda3\\envs\\pythonProject\\lib\\threading.py\", line 1016, in _bootstrap_inner\n",
      "    self.run()\n",
      "  File \"C:\\Users\\Ethan\\anaconda3\\envs\\pythonProject\\lib\\site-packages\\ipykernel\\ipkernel.py\", line 766, in run_closure\n",
      "    _threading_Thread_run(self)\n",
      "  File \"C:\\Users\\Ethan\\anaconda3\\envs\\pythonProject\\lib\\threading.py\", line 953, in run\n",
      "    self._target(*self._args, **self._kwargs)\n",
      "  File \"C:\\Users\\Ethan\\AppData\\Local\\Temp\\ipykernel_6908\\2911061226.py\", line 4, in generate_and_log_samples\n",
      "  File \"C:\\Users\\Ethan\\Documents\\MATH 479 (Math Modelling)\\WaveNet-Implementation\\wavenet_model.py\", line 344, in load_latest_model_from\n",
      "    model = load_to_cpu(newest_file)\n",
      "  File \"C:\\Users\\Ethan\\Documents\\MATH 479 (Math Modelling)\\WaveNet-Implementation\\wavenet_model.py\", line 350, in load_to_cpu\n",
      "    model = torch.load(path, map_location=lambda storage, loc: storage)\n",
      "  File \"C:\\Users\\Ethan\\anaconda3\\envs\\pythonProject\\lib\\site-packages\\torch\\serialization.py\", line 1524, in load\n",
      "    raise pickle.UnpicklingError(_get_wo_message(str(e))) from None\n",
      "_pickle.UnpicklingError: Weights only load failed. This file can still be loaded, to do so you have two options, \u001b[1mdo those steps only if you trust the source of the checkpoint\u001b[0m. \n",
      "\t(1) In PyTorch 2.6, we changed the default value of the `weights_only` argument in `torch.load` from `False` to `True`. Re-running `torch.load` with `weights_only` set to `False` will likely succeed, but it can result in arbitrary code execution. Do it only if you got the file from a trusted source.\n",
      "\t(2) Alternatively, to load with `weights_only=True` please check the recommended steps in the following error message.\n",
      "\tWeightsUnpickler error: Unsupported global: GLOBAL wavenet_model.WaveNetModel was not an allowed global by default. Please use `torch.serialization.add_safe_globals([wavenet_model.WaveNetModel])` or the `torch.serialization.safe_globals([wavenet_model.WaveNetModel])` context manager to allowlist this global if you trust this class/function.\n",
      "\n",
      "Check the documentation of torch.load to learn more about types accepted by default with weights_only https://pytorch.org/docs/stable/generated/torch.load.html.\n"
     ]
    },
    {
     "name": "stdout",
     "output_type": "stream",
     "text": [
      "load model snapshots/chaconne_model_2025-05-04_00-07-05\n",
      "On batch number: 19000 of 15334\n",
      "On batch number: 19250 of 15334\n",
      "On batch number: 19500 of 15334\n",
      "On batch number: 19750 of 15334\n"
     ]
    },
    {
     "name": "stderr",
     "output_type": "stream",
     "text": [
      "Exception in thread Thread-23 (generate_and_log_samples):\n",
      "Traceback (most recent call last):\n",
      "  File \"C:\\Users\\Ethan\\anaconda3\\envs\\pythonProject\\lib\\threading.py\", line 1016, in _bootstrap_inner\n",
      "    self.run()\n",
      "  File \"C:\\Users\\Ethan\\anaconda3\\envs\\pythonProject\\lib\\site-packages\\ipykernel\\ipkernel.py\", line 766, in run_closure\n",
      "    _threading_Thread_run(self)\n",
      "  File \"C:\\Users\\Ethan\\anaconda3\\envs\\pythonProject\\lib\\threading.py\", line 953, in run\n",
      "    self._target(*self._args, **self._kwargs)\n",
      "  File \"C:\\Users\\Ethan\\AppData\\Local\\Temp\\ipykernel_6908\\2911061226.py\", line 4, in generate_and_log_samples\n",
      "  File \"C:\\Users\\Ethan\\Documents\\MATH 479 (Math Modelling)\\WaveNet-Implementation\\wavenet_model.py\", line 344, in load_latest_model_from\n",
      "    model = load_to_cpu(newest_file)\n",
      "  File \"C:\\Users\\Ethan\\Documents\\MATH 479 (Math Modelling)\\WaveNet-Implementation\\wavenet_model.py\", line 350, in load_to_cpu\n",
      "    model = torch.load(path, map_location=lambda storage, loc: storage)\n",
      "  File \"C:\\Users\\Ethan\\anaconda3\\envs\\pythonProject\\lib\\site-packages\\torch\\serialization.py\", line 1524, in load\n",
      "    raise pickle.UnpicklingError(_get_wo_message(str(e))) from None\n",
      "_pickle.UnpicklingError: Weights only load failed. This file can still be loaded, to do so you have two options, \u001b[1mdo those steps only if you trust the source of the checkpoint\u001b[0m. \n",
      "\t(1) In PyTorch 2.6, we changed the default value of the `weights_only` argument in `torch.load` from `False` to `True`. Re-running `torch.load` with `weights_only` set to `False` will likely succeed, but it can result in arbitrary code execution. Do it only if you got the file from a trusted source.\n",
      "\t(2) Alternatively, to load with `weights_only=True` please check the recommended steps in the following error message.\n",
      "\tWeightsUnpickler error: Unsupported global: GLOBAL wavenet_model.WaveNetModel was not an allowed global by default. Please use `torch.serialization.add_safe_globals([wavenet_model.WaveNetModel])` or the `torch.serialization.safe_globals([wavenet_model.WaveNetModel])` context manager to allowlist this global if you trust this class/function.\n",
      "\n",
      "Check the documentation of torch.load to learn more about types accepted by default with weights_only https://pytorch.org/docs/stable/generated/torch.load.html.\n"
     ]
    },
    {
     "name": "stdout",
     "output_type": "stream",
     "text": [
      "load model snapshots/chaconne_model_2025-05-04_00-18-14\n",
      "On batch number: 20000 of 15334\n",
      "On batch number: 20250 of 15334\n",
      "On batch number: 20500 of 15334\n",
      "On batch number: 20750 of 15334\n"
     ]
    },
    {
     "name": "stderr",
     "output_type": "stream",
     "text": [
      "Exception in thread Thread-24 (generate_and_log_samples):\n",
      "Traceback (most recent call last):\n",
      "  File \"C:\\Users\\Ethan\\anaconda3\\envs\\pythonProject\\lib\\threading.py\", line 1016, in _bootstrap_inner\n",
      "    self.run()\n",
      "  File \"C:\\Users\\Ethan\\anaconda3\\envs\\pythonProject\\lib\\site-packages\\ipykernel\\ipkernel.py\", line 766, in run_closure\n",
      "    _threading_Thread_run(self)\n",
      "  File \"C:\\Users\\Ethan\\anaconda3\\envs\\pythonProject\\lib\\threading.py\", line 953, in run\n",
      "    self._target(*self._args, **self._kwargs)\n",
      "  File \"C:\\Users\\Ethan\\AppData\\Local\\Temp\\ipykernel_6908\\2911061226.py\", line 4, in generate_and_log_samples\n",
      "  File \"C:\\Users\\Ethan\\Documents\\MATH 479 (Math Modelling)\\WaveNet-Implementation\\wavenet_model.py\", line 344, in load_latest_model_from\n",
      "    model = load_to_cpu(newest_file)\n",
      "  File \"C:\\Users\\Ethan\\Documents\\MATH 479 (Math Modelling)\\WaveNet-Implementation\\wavenet_model.py\", line 350, in load_to_cpu\n",
      "    model = torch.load(path, map_location=lambda storage, loc: storage)\n",
      "  File \"C:\\Users\\Ethan\\anaconda3\\envs\\pythonProject\\lib\\site-packages\\torch\\serialization.py\", line 1524, in load\n",
      "    raise pickle.UnpicklingError(_get_wo_message(str(e))) from None\n",
      "_pickle.UnpicklingError: Weights only load failed. This file can still be loaded, to do so you have two options, \u001b[1mdo those steps only if you trust the source of the checkpoint\u001b[0m. \n",
      "\t(1) In PyTorch 2.6, we changed the default value of the `weights_only` argument in `torch.load` from `False` to `True`. Re-running `torch.load` with `weights_only` set to `False` will likely succeed, but it can result in arbitrary code execution. Do it only if you got the file from a trusted source.\n",
      "\t(2) Alternatively, to load with `weights_only=True` please check the recommended steps in the following error message.\n",
      "\tWeightsUnpickler error: Unsupported global: GLOBAL wavenet_model.WaveNetModel was not an allowed global by default. Please use `torch.serialization.add_safe_globals([wavenet_model.WaveNetModel])` or the `torch.serialization.safe_globals([wavenet_model.WaveNetModel])` context manager to allowlist this global if you trust this class/function.\n",
      "\n",
      "Check the documentation of torch.load to learn more about types accepted by default with weights_only https://pytorch.org/docs/stable/generated/torch.load.html.\n"
     ]
    },
    {
     "name": "stdout",
     "output_type": "stream",
     "text": [
      "load model snapshots/chaconne_model_2025-05-04_00-30-54\n",
      "On batch number: 21000 of 15334\n",
      "On batch number: 21250 of 15334\n",
      "On batch number: 21500 of 15334\n",
      "On batch number: 21750 of 15334\n"
     ]
    },
    {
     "name": "stderr",
     "output_type": "stream",
     "text": [
      "Exception in thread Thread-25 (generate_and_log_samples):\n",
      "Traceback (most recent call last):\n",
      "  File \"C:\\Users\\Ethan\\anaconda3\\envs\\pythonProject\\lib\\threading.py\", line 1016, in _bootstrap_inner\n",
      "    self.run()\n",
      "  File \"C:\\Users\\Ethan\\anaconda3\\envs\\pythonProject\\lib\\site-packages\\ipykernel\\ipkernel.py\", line 766, in run_closure\n",
      "    _threading_Thread_run(self)\n",
      "  File \"C:\\Users\\Ethan\\anaconda3\\envs\\pythonProject\\lib\\threading.py\", line 953, in run\n",
      "    self._target(*self._args, **self._kwargs)\n",
      "  File \"C:\\Users\\Ethan\\AppData\\Local\\Temp\\ipykernel_6908\\2911061226.py\", line 4, in generate_and_log_samples\n",
      "  File \"C:\\Users\\Ethan\\Documents\\MATH 479 (Math Modelling)\\WaveNet-Implementation\\wavenet_model.py\", line 344, in load_latest_model_from\n",
      "    model = load_to_cpu(newest_file)\n",
      "  File \"C:\\Users\\Ethan\\Documents\\MATH 479 (Math Modelling)\\WaveNet-Implementation\\wavenet_model.py\", line 350, in load_to_cpu\n",
      "    model = torch.load(path, map_location=lambda storage, loc: storage)\n",
      "  File \"C:\\Users\\Ethan\\anaconda3\\envs\\pythonProject\\lib\\site-packages\\torch\\serialization.py\", line 1524, in load\n",
      "    raise pickle.UnpicklingError(_get_wo_message(str(e))) from None\n",
      "_pickle.UnpicklingError: Weights only load failed. This file can still be loaded, to do so you have two options, \u001b[1mdo those steps only if you trust the source of the checkpoint\u001b[0m. \n",
      "\t(1) In PyTorch 2.6, we changed the default value of the `weights_only` argument in `torch.load` from `False` to `True`. Re-running `torch.load` with `weights_only` set to `False` will likely succeed, but it can result in arbitrary code execution. Do it only if you got the file from a trusted source.\n",
      "\t(2) Alternatively, to load with `weights_only=True` please check the recommended steps in the following error message.\n",
      "\tWeightsUnpickler error: Unsupported global: GLOBAL wavenet_model.WaveNetModel was not an allowed global by default. Please use `torch.serialization.add_safe_globals([wavenet_model.WaveNetModel])` or the `torch.serialization.safe_globals([wavenet_model.WaveNetModel])` context manager to allowlist this global if you trust this class/function.\n",
      "\n",
      "Check the documentation of torch.load to learn more about types accepted by default with weights_only https://pytorch.org/docs/stable/generated/torch.load.html.\n"
     ]
    },
    {
     "name": "stdout",
     "output_type": "stream",
     "text": [
      "load model snapshots/chaconne_model_2025-05-04_00-42-01\n",
      "On batch number: 22000 of 15334\n",
      "On batch number: 22250 of 15334\n",
      "On batch number: 22500 of 15334\n",
      "On batch number: 22750 of 15334\n"
     ]
    },
    {
     "name": "stderr",
     "output_type": "stream",
     "text": [
      "Exception in thread Thread-26 (generate_and_log_samples):\n",
      "Traceback (most recent call last):\n",
      "  File \"C:\\Users\\Ethan\\anaconda3\\envs\\pythonProject\\lib\\threading.py\", line 1016, in _bootstrap_inner\n",
      "    self.run()\n",
      "  File \"C:\\Users\\Ethan\\anaconda3\\envs\\pythonProject\\lib\\site-packages\\ipykernel\\ipkernel.py\", line 766, in run_closure\n",
      "    _threading_Thread_run(self)\n",
      "  File \"C:\\Users\\Ethan\\anaconda3\\envs\\pythonProject\\lib\\threading.py\", line 953, in run\n",
      "    self._target(*self._args, **self._kwargs)\n",
      "  File \"C:\\Users\\Ethan\\AppData\\Local\\Temp\\ipykernel_6908\\2911061226.py\", line 4, in generate_and_log_samples\n",
      "  File \"C:\\Users\\Ethan\\Documents\\MATH 479 (Math Modelling)\\WaveNet-Implementation\\wavenet_model.py\", line 344, in load_latest_model_from\n",
      "    model = load_to_cpu(newest_file)\n",
      "  File \"C:\\Users\\Ethan\\Documents\\MATH 479 (Math Modelling)\\WaveNet-Implementation\\wavenet_model.py\", line 350, in load_to_cpu\n",
      "    model = torch.load(path, map_location=lambda storage, loc: storage)\n",
      "  File \"C:\\Users\\Ethan\\anaconda3\\envs\\pythonProject\\lib\\site-packages\\torch\\serialization.py\", line 1524, in load\n",
      "    raise pickle.UnpicklingError(_get_wo_message(str(e))) from None\n",
      "_pickle.UnpicklingError: Weights only load failed. This file can still be loaded, to do so you have two options, \u001b[1mdo those steps only if you trust the source of the checkpoint\u001b[0m. \n",
      "\t(1) In PyTorch 2.6, we changed the default value of the `weights_only` argument in `torch.load` from `False` to `True`. Re-running `torch.load` with `weights_only` set to `False` will likely succeed, but it can result in arbitrary code execution. Do it only if you got the file from a trusted source.\n",
      "\t(2) Alternatively, to load with `weights_only=True` please check the recommended steps in the following error message.\n",
      "\tWeightsUnpickler error: Unsupported global: GLOBAL wavenet_model.WaveNetModel was not an allowed global by default. Please use `torch.serialization.add_safe_globals([wavenet_model.WaveNetModel])` or the `torch.serialization.safe_globals([wavenet_model.WaveNetModel])` context manager to allowlist this global if you trust this class/function.\n",
      "\n",
      "Check the documentation of torch.load to learn more about types accepted by default with weights_only https://pytorch.org/docs/stable/generated/torch.load.html.\n"
     ]
    },
    {
     "name": "stdout",
     "output_type": "stream",
     "text": [
      "load model snapshots/chaconne_model_2025-05-04_00-54-35\n",
      "On batch number: 23000 of 15334\n",
      "On batch number: 23250 of 15334\n",
      "On batch number: 23500 of 15334\n",
      "On batch number: 23750 of 15334\n"
     ]
    },
    {
     "name": "stderr",
     "output_type": "stream",
     "text": [
      "Exception in thread Thread-27 (generate_and_log_samples):\n",
      "Traceback (most recent call last):\n",
      "  File \"C:\\Users\\Ethan\\anaconda3\\envs\\pythonProject\\lib\\threading.py\", line 1016, in _bootstrap_inner\n",
      "    self.run()\n",
      "  File \"C:\\Users\\Ethan\\anaconda3\\envs\\pythonProject\\lib\\site-packages\\ipykernel\\ipkernel.py\", line 766, in run_closure\n",
      "    _threading_Thread_run(self)\n",
      "  File \"C:\\Users\\Ethan\\anaconda3\\envs\\pythonProject\\lib\\threading.py\", line 953, in run\n",
      "    self._target(*self._args, **self._kwargs)\n",
      "  File \"C:\\Users\\Ethan\\AppData\\Local\\Temp\\ipykernel_6908\\2911061226.py\", line 4, in generate_and_log_samples\n",
      "  File \"C:\\Users\\Ethan\\Documents\\MATH 479 (Math Modelling)\\WaveNet-Implementation\\wavenet_model.py\", line 344, in load_latest_model_from\n",
      "    model = load_to_cpu(newest_file)\n",
      "  File \"C:\\Users\\Ethan\\Documents\\MATH 479 (Math Modelling)\\WaveNet-Implementation\\wavenet_model.py\", line 350, in load_to_cpu\n",
      "    model = torch.load(path, map_location=lambda storage, loc: storage)\n",
      "  File \"C:\\Users\\Ethan\\anaconda3\\envs\\pythonProject\\lib\\site-packages\\torch\\serialization.py\", line 1524, in load\n",
      "    raise pickle.UnpicklingError(_get_wo_message(str(e))) from None\n",
      "_pickle.UnpicklingError: Weights only load failed. This file can still be loaded, to do so you have two options, \u001b[1mdo those steps only if you trust the source of the checkpoint\u001b[0m. \n",
      "\t(1) In PyTorch 2.6, we changed the default value of the `weights_only` argument in `torch.load` from `False` to `True`. Re-running `torch.load` with `weights_only` set to `False` will likely succeed, but it can result in arbitrary code execution. Do it only if you got the file from a trusted source.\n",
      "\t(2) Alternatively, to load with `weights_only=True` please check the recommended steps in the following error message.\n",
      "\tWeightsUnpickler error: Unsupported global: GLOBAL wavenet_model.WaveNetModel was not an allowed global by default. Please use `torch.serialization.add_safe_globals([wavenet_model.WaveNetModel])` or the `torch.serialization.safe_globals([wavenet_model.WaveNetModel])` context manager to allowlist this global if you trust this class/function.\n",
      "\n",
      "Check the documentation of torch.load to learn more about types accepted by default with weights_only https://pytorch.org/docs/stable/generated/torch.load.html.\n"
     ]
    },
    {
     "name": "stdout",
     "output_type": "stream",
     "text": [
      "load model snapshots/chaconne_model_2025-05-04_01-05-46\n",
      "On batch number: 24000 of 15334\n",
      "On batch number: 24250 of 15334\n",
      "On batch number: 24500 of 15334\n",
      "On batch number: 24750 of 15334\n"
     ]
    },
    {
     "name": "stderr",
     "output_type": "stream",
     "text": [
      "Exception in thread Thread-28 (generate_and_log_samples):\n",
      "Traceback (most recent call last):\n",
      "  File \"C:\\Users\\Ethan\\anaconda3\\envs\\pythonProject\\lib\\threading.py\", line 1016, in _bootstrap_inner\n",
      "    self.run()\n",
      "  File \"C:\\Users\\Ethan\\anaconda3\\envs\\pythonProject\\lib\\site-packages\\ipykernel\\ipkernel.py\", line 766, in run_closure\n",
      "    _threading_Thread_run(self)\n",
      "  File \"C:\\Users\\Ethan\\anaconda3\\envs\\pythonProject\\lib\\threading.py\", line 953, in run\n",
      "    self._target(*self._args, **self._kwargs)\n",
      "  File \"C:\\Users\\Ethan\\AppData\\Local\\Temp\\ipykernel_6908\\2911061226.py\", line 4, in generate_and_log_samples\n",
      "  File \"C:\\Users\\Ethan\\Documents\\MATH 479 (Math Modelling)\\WaveNet-Implementation\\wavenet_model.py\", line 344, in load_latest_model_from\n",
      "    model = load_to_cpu(newest_file)\n",
      "  File \"C:\\Users\\Ethan\\Documents\\MATH 479 (Math Modelling)\\WaveNet-Implementation\\wavenet_model.py\", line 350, in load_to_cpu\n",
      "    model = torch.load(path, map_location=lambda storage, loc: storage)\n",
      "  File \"C:\\Users\\Ethan\\anaconda3\\envs\\pythonProject\\lib\\site-packages\\torch\\serialization.py\", line 1524, in load\n",
      "    raise pickle.UnpicklingError(_get_wo_message(str(e))) from None\n",
      "_pickle.UnpicklingError: Weights only load failed. This file can still be loaded, to do so you have two options, \u001b[1mdo those steps only if you trust the source of the checkpoint\u001b[0m. \n",
      "\t(1) In PyTorch 2.6, we changed the default value of the `weights_only` argument in `torch.load` from `False` to `True`. Re-running `torch.load` with `weights_only` set to `False` will likely succeed, but it can result in arbitrary code execution. Do it only if you got the file from a trusted source.\n",
      "\t(2) Alternatively, to load with `weights_only=True` please check the recommended steps in the following error message.\n",
      "\tWeightsUnpickler error: Unsupported global: GLOBAL wavenet_model.WaveNetModel was not an allowed global by default. Please use `torch.serialization.add_safe_globals([wavenet_model.WaveNetModel])` or the `torch.serialization.safe_globals([wavenet_model.WaveNetModel])` context manager to allowlist this global if you trust this class/function.\n",
      "\n",
      "Check the documentation of torch.load to learn more about types accepted by default with weights_only https://pytorch.org/docs/stable/generated/torch.load.html.\n"
     ]
    },
    {
     "name": "stdout",
     "output_type": "stream",
     "text": [
      "load model snapshots/chaconne_model_2025-05-04_01-17-57\n",
      "On batch number: 25000 of 15334\n",
      "On batch number: 25250 of 15334\n",
      "On batch number: 25500 of 15334\n",
      "On batch number: 25750 of 15334\n"
     ]
    },
    {
     "name": "stderr",
     "output_type": "stream",
     "text": [
      "Exception in thread Thread-29 (generate_and_log_samples):\n",
      "Traceback (most recent call last):\n",
      "  File \"C:\\Users\\Ethan\\anaconda3\\envs\\pythonProject\\lib\\threading.py\", line 1016, in _bootstrap_inner\n",
      "    self.run()\n",
      "  File \"C:\\Users\\Ethan\\anaconda3\\envs\\pythonProject\\lib\\site-packages\\ipykernel\\ipkernel.py\", line 766, in run_closure\n",
      "    _threading_Thread_run(self)\n",
      "  File \"C:\\Users\\Ethan\\anaconda3\\envs\\pythonProject\\lib\\threading.py\", line 953, in run\n",
      "    self._target(*self._args, **self._kwargs)\n",
      "  File \"C:\\Users\\Ethan\\AppData\\Local\\Temp\\ipykernel_6908\\2911061226.py\", line 4, in generate_and_log_samples\n",
      "  File \"C:\\Users\\Ethan\\Documents\\MATH 479 (Math Modelling)\\WaveNet-Implementation\\wavenet_model.py\", line 344, in load_latest_model_from\n",
      "    model = load_to_cpu(newest_file)\n",
      "  File \"C:\\Users\\Ethan\\Documents\\MATH 479 (Math Modelling)\\WaveNet-Implementation\\wavenet_model.py\", line 350, in load_to_cpu\n",
      "    model = torch.load(path, map_location=lambda storage, loc: storage)\n",
      "  File \"C:\\Users\\Ethan\\anaconda3\\envs\\pythonProject\\lib\\site-packages\\torch\\serialization.py\", line 1524, in load\n",
      "    raise pickle.UnpicklingError(_get_wo_message(str(e))) from None\n",
      "_pickle.UnpicklingError: Weights only load failed. This file can still be loaded, to do so you have two options, \u001b[1mdo those steps only if you trust the source of the checkpoint\u001b[0m. \n",
      "\t(1) In PyTorch 2.6, we changed the default value of the `weights_only` argument in `torch.load` from `False` to `True`. Re-running `torch.load` with `weights_only` set to `False` will likely succeed, but it can result in arbitrary code execution. Do it only if you got the file from a trusted source.\n",
      "\t(2) Alternatively, to load with `weights_only=True` please check the recommended steps in the following error message.\n",
      "\tWeightsUnpickler error: Unsupported global: GLOBAL wavenet_model.WaveNetModel was not an allowed global by default. Please use `torch.serialization.add_safe_globals([wavenet_model.WaveNetModel])` or the `torch.serialization.safe_globals([wavenet_model.WaveNetModel])` context manager to allowlist this global if you trust this class/function.\n",
      "\n",
      "Check the documentation of torch.load to learn more about types accepted by default with weights_only https://pytorch.org/docs/stable/generated/torch.load.html.\n"
     ]
    },
    {
     "name": "stdout",
     "output_type": "stream",
     "text": [
      "load model snapshots/chaconne_model_2025-05-04_01-28-51\n",
      "On batch number: 26000 of 15334\n",
      "On batch number: 26250 of 15334\n",
      "On batch number: 26500 of 15334\n",
      "On batch number: 26750 of 15334\n"
     ]
    },
    {
     "name": "stderr",
     "output_type": "stream",
     "text": [
      "Exception in thread Thread-30 (generate_and_log_samples):\n",
      "Traceback (most recent call last):\n",
      "  File \"C:\\Users\\Ethan\\anaconda3\\envs\\pythonProject\\lib\\threading.py\", line 1016, in _bootstrap_inner\n",
      "    self.run()\n",
      "  File \"C:\\Users\\Ethan\\anaconda3\\envs\\pythonProject\\lib\\site-packages\\ipykernel\\ipkernel.py\", line 766, in run_closure\n",
      "    _threading_Thread_run(self)\n",
      "  File \"C:\\Users\\Ethan\\anaconda3\\envs\\pythonProject\\lib\\threading.py\", line 953, in run\n",
      "    self._target(*self._args, **self._kwargs)\n",
      "  File \"C:\\Users\\Ethan\\AppData\\Local\\Temp\\ipykernel_6908\\2911061226.py\", line 4, in generate_and_log_samples\n",
      "  File \"C:\\Users\\Ethan\\Documents\\MATH 479 (Math Modelling)\\WaveNet-Implementation\\wavenet_model.py\", line 344, in load_latest_model_from\n",
      "    model = load_to_cpu(newest_file)\n",
      "  File \"C:\\Users\\Ethan\\Documents\\MATH 479 (Math Modelling)\\WaveNet-Implementation\\wavenet_model.py\", line 350, in load_to_cpu\n",
      "    model = torch.load(path, map_location=lambda storage, loc: storage)\n",
      "  File \"C:\\Users\\Ethan\\anaconda3\\envs\\pythonProject\\lib\\site-packages\\torch\\serialization.py\", line 1524, in load\n",
      "    raise pickle.UnpicklingError(_get_wo_message(str(e))) from None\n",
      "_pickle.UnpicklingError: Weights only load failed. This file can still be loaded, to do so you have two options, \u001b[1mdo those steps only if you trust the source of the checkpoint\u001b[0m. \n",
      "\t(1) In PyTorch 2.6, we changed the default value of the `weights_only` argument in `torch.load` from `False` to `True`. Re-running `torch.load` with `weights_only` set to `False` will likely succeed, but it can result in arbitrary code execution. Do it only if you got the file from a trusted source.\n",
      "\t(2) Alternatively, to load with `weights_only=True` please check the recommended steps in the following error message.\n",
      "\tWeightsUnpickler error: Unsupported global: GLOBAL wavenet_model.WaveNetModel was not an allowed global by default. Please use `torch.serialization.add_safe_globals([wavenet_model.WaveNetModel])` or the `torch.serialization.safe_globals([wavenet_model.WaveNetModel])` context manager to allowlist this global if you trust this class/function.\n",
      "\n",
      "Check the documentation of torch.load to learn more about types accepted by default with weights_only https://pytorch.org/docs/stable/generated/torch.load.html.\n"
     ]
    },
    {
     "name": "stdout",
     "output_type": "stream",
     "text": [
      "load model snapshots/chaconne_model_2025-05-04_01-40-51\n",
      "On batch number: 27000 of 15334\n",
      "On batch number: 27250 of 15334\n",
      "On batch number: 27500 of 15334\n",
      "On batch number: 27750 of 15334\n"
     ]
    },
    {
     "name": "stderr",
     "output_type": "stream",
     "text": [
      "Exception in thread Thread-31 (generate_and_log_samples):\n",
      "Traceback (most recent call last):\n",
      "  File \"C:\\Users\\Ethan\\anaconda3\\envs\\pythonProject\\lib\\threading.py\", line 1016, in _bootstrap_inner\n",
      "    self.run()\n",
      "  File \"C:\\Users\\Ethan\\anaconda3\\envs\\pythonProject\\lib\\site-packages\\ipykernel\\ipkernel.py\", line 766, in run_closure\n",
      "    _threading_Thread_run(self)\n",
      "  File \"C:\\Users\\Ethan\\anaconda3\\envs\\pythonProject\\lib\\threading.py\", line 953, in run\n",
      "    self._target(*self._args, **self._kwargs)\n",
      "  File \"C:\\Users\\Ethan\\AppData\\Local\\Temp\\ipykernel_6908\\2911061226.py\", line 4, in generate_and_log_samples\n",
      "  File \"C:\\Users\\Ethan\\Documents\\MATH 479 (Math Modelling)\\WaveNet-Implementation\\wavenet_model.py\", line 344, in load_latest_model_from\n",
      "    model = load_to_cpu(newest_file)\n",
      "  File \"C:\\Users\\Ethan\\Documents\\MATH 479 (Math Modelling)\\WaveNet-Implementation\\wavenet_model.py\", line 350, in load_to_cpu\n",
      "    model = torch.load(path, map_location=lambda storage, loc: storage)\n",
      "  File \"C:\\Users\\Ethan\\anaconda3\\envs\\pythonProject\\lib\\site-packages\\torch\\serialization.py\", line 1524, in load\n",
      "    raise pickle.UnpicklingError(_get_wo_message(str(e))) from None\n",
      "_pickle.UnpicklingError: Weights only load failed. This file can still be loaded, to do so you have two options, \u001b[1mdo those steps only if you trust the source of the checkpoint\u001b[0m. \n",
      "\t(1) In PyTorch 2.6, we changed the default value of the `weights_only` argument in `torch.load` from `False` to `True`. Re-running `torch.load` with `weights_only` set to `False` will likely succeed, but it can result in arbitrary code execution. Do it only if you got the file from a trusted source.\n",
      "\t(2) Alternatively, to load with `weights_only=True` please check the recommended steps in the following error message.\n",
      "\tWeightsUnpickler error: Unsupported global: GLOBAL wavenet_model.WaveNetModel was not an allowed global by default. Please use `torch.serialization.add_safe_globals([wavenet_model.WaveNetModel])` or the `torch.serialization.safe_globals([wavenet_model.WaveNetModel])` context manager to allowlist this global if you trust this class/function.\n",
      "\n",
      "Check the documentation of torch.load to learn more about types accepted by default with weights_only https://pytorch.org/docs/stable/generated/torch.load.html.\n"
     ]
    },
    {
     "name": "stdout",
     "output_type": "stream",
     "text": [
      "load model snapshots/chaconne_model_2025-05-04_01-51-38\n",
      "On batch number: 28000 of 15334\n",
      "On batch number: 28250 of 15334\n",
      "On batch number: 28500 of 15334\n",
      "On batch number: 28750 of 15334\n"
     ]
    },
    {
     "name": "stderr",
     "output_type": "stream",
     "text": [
      "Exception in thread Thread-32 (generate_and_log_samples):\n",
      "Traceback (most recent call last):\n",
      "  File \"C:\\Users\\Ethan\\anaconda3\\envs\\pythonProject\\lib\\threading.py\", line 1016, in _bootstrap_inner\n",
      "    self.run()\n",
      "  File \"C:\\Users\\Ethan\\anaconda3\\envs\\pythonProject\\lib\\site-packages\\ipykernel\\ipkernel.py\", line 766, in run_closure\n",
      "    _threading_Thread_run(self)\n",
      "  File \"C:\\Users\\Ethan\\anaconda3\\envs\\pythonProject\\lib\\threading.py\", line 953, in run\n",
      "    self._target(*self._args, **self._kwargs)\n",
      "  File \"C:\\Users\\Ethan\\AppData\\Local\\Temp\\ipykernel_6908\\2911061226.py\", line 4, in generate_and_log_samples\n",
      "  File \"C:\\Users\\Ethan\\Documents\\MATH 479 (Math Modelling)\\WaveNet-Implementation\\wavenet_model.py\", line 344, in load_latest_model_from\n",
      "    model = load_to_cpu(newest_file)\n",
      "  File \"C:\\Users\\Ethan\\Documents\\MATH 479 (Math Modelling)\\WaveNet-Implementation\\wavenet_model.py\", line 350, in load_to_cpu\n",
      "    model = torch.load(path, map_location=lambda storage, loc: storage)\n",
      "  File \"C:\\Users\\Ethan\\anaconda3\\envs\\pythonProject\\lib\\site-packages\\torch\\serialization.py\", line 1524, in load\n",
      "    raise pickle.UnpicklingError(_get_wo_message(str(e))) from None\n",
      "_pickle.UnpicklingError: Weights only load failed. This file can still be loaded, to do so you have two options, \u001b[1mdo those steps only if you trust the source of the checkpoint\u001b[0m. \n",
      "\t(1) In PyTorch 2.6, we changed the default value of the `weights_only` argument in `torch.load` from `False` to `True`. Re-running `torch.load` with `weights_only` set to `False` will likely succeed, but it can result in arbitrary code execution. Do it only if you got the file from a trusted source.\n",
      "\t(2) Alternatively, to load with `weights_only=True` please check the recommended steps in the following error message.\n",
      "\tWeightsUnpickler error: Unsupported global: GLOBAL wavenet_model.WaveNetModel was not an allowed global by default. Please use `torch.serialization.add_safe_globals([wavenet_model.WaveNetModel])` or the `torch.serialization.safe_globals([wavenet_model.WaveNetModel])` context manager to allowlist this global if you trust this class/function.\n",
      "\n",
      "Check the documentation of torch.load to learn more about types accepted by default with weights_only https://pytorch.org/docs/stable/generated/torch.load.html.\n"
     ]
    },
    {
     "name": "stdout",
     "output_type": "stream",
     "text": [
      "load model snapshots/chaconne_model_2025-05-04_02-03-50\n",
      "On batch number: 29000 of 15334\n",
      "On batch number: 29250 of 15334\n",
      "On batch number: 29500 of 15334\n",
      "On batch number: 29750 of 15334\n"
     ]
    },
    {
     "name": "stderr",
     "output_type": "stream",
     "text": [
      "Exception in thread Thread-33 (generate_and_log_samples):\n",
      "Traceback (most recent call last):\n",
      "  File \"C:\\Users\\Ethan\\anaconda3\\envs\\pythonProject\\lib\\threading.py\", line 1016, in _bootstrap_inner\n",
      "    self.run()\n",
      "  File \"C:\\Users\\Ethan\\anaconda3\\envs\\pythonProject\\lib\\site-packages\\ipykernel\\ipkernel.py\", line 766, in run_closure\n",
      "    _threading_Thread_run(self)\n",
      "  File \"C:\\Users\\Ethan\\anaconda3\\envs\\pythonProject\\lib\\threading.py\", line 953, in run\n",
      "    self._target(*self._args, **self._kwargs)\n",
      "  File \"C:\\Users\\Ethan\\AppData\\Local\\Temp\\ipykernel_6908\\2911061226.py\", line 4, in generate_and_log_samples\n",
      "  File \"C:\\Users\\Ethan\\Documents\\MATH 479 (Math Modelling)\\WaveNet-Implementation\\wavenet_model.py\", line 344, in load_latest_model_from\n",
      "    model = load_to_cpu(newest_file)\n",
      "  File \"C:\\Users\\Ethan\\Documents\\MATH 479 (Math Modelling)\\WaveNet-Implementation\\wavenet_model.py\", line 350, in load_to_cpu\n",
      "    model = torch.load(path, map_location=lambda storage, loc: storage)\n",
      "  File \"C:\\Users\\Ethan\\anaconda3\\envs\\pythonProject\\lib\\site-packages\\torch\\serialization.py\", line 1524, in load\n",
      "    raise pickle.UnpicklingError(_get_wo_message(str(e))) from None\n",
      "_pickle.UnpicklingError: Weights only load failed. This file can still be loaded, to do so you have two options, \u001b[1mdo those steps only if you trust the source of the checkpoint\u001b[0m. \n",
      "\t(1) In PyTorch 2.6, we changed the default value of the `weights_only` argument in `torch.load` from `False` to `True`. Re-running `torch.load` with `weights_only` set to `False` will likely succeed, but it can result in arbitrary code execution. Do it only if you got the file from a trusted source.\n",
      "\t(2) Alternatively, to load with `weights_only=True` please check the recommended steps in the following error message.\n",
      "\tWeightsUnpickler error: Unsupported global: GLOBAL wavenet_model.WaveNetModel was not an allowed global by default. Please use `torch.serialization.add_safe_globals([wavenet_model.WaveNetModel])` or the `torch.serialization.safe_globals([wavenet_model.WaveNetModel])` context manager to allowlist this global if you trust this class/function.\n",
      "\n",
      "Check the documentation of torch.load to learn more about types accepted by default with weights_only https://pytorch.org/docs/stable/generated/torch.load.html.\n"
     ]
    },
    {
     "name": "stdout",
     "output_type": "stream",
     "text": [
      "load model snapshots/chaconne_model_2025-05-04_02-14-36\n",
      "On batch number: 30000 of 15334\n",
      "On batch number: 30250 of 15334\n",
      "On batch number: 30500 of 15334\n"
     ]
    }
   ],
   "source": [
    "trainer = WavenetTrainer(model=model,\n",
    "                         dataset=data,\n",
    "                         lr=0.001,\n",
    "                         snapshot_path='snapshots',\n",
    "                         snapshot_name='chaconne_model',\n",
    "                         snapshot_interval=1000,\n",
    "                         logger=logger,\n",
    "                         dtype=dtype,\n",
    "                         ltype=ltype)\n",
    "\n",
    "\n",
    "\n",
    "# we should just train on a tiny dataset first to speed up debugging\n",
    "print('start training...')\n",
    "trainer.train(batch_size=4, epochs=2)"
   ]
  },
  {
   "cell_type": "markdown",
   "metadata": {},
   "source": [
    "## Generating\n",
    "This model has the Fast Wavenet Generation Algorithm (https://arxiv.org/abs/1611.09482) implemented. This might run faster on the cpu. You can give some starting data (of at least the length of receptive field) or let the model generate from zero. In my experience, a temperature between 0.5 and 1.0 yields the best results, but this may depend on the data set."
   ]
  },
  {
   "cell_type": "code",
   "execution_count": 15,
   "metadata": {
    "collapsed": true,
    "jupyter": {
     "outputs_hidden": true
    }
   },
   "outputs": [
    {
     "name": "stdout",
     "output_type": "stream",
     "text": [
      "tensor([0, 0, 0,  ..., 0, 0, 0])\n",
      "load model snapshots/.ipynb_checkpoints\n"
     ]
    },
    {
     "ename": "PermissionError",
     "evalue": "[Errno 13] Permission denied: 'snapshots/.ipynb_checkpoints'",
     "output_type": "error",
     "traceback": [
      "\u001b[1;31m---------------------------------------------------------------------------\u001b[0m",
      "\u001b[1;31mPermissionError\u001b[0m                           Traceback (most recent call last)",
      "Cell \u001b[1;32mIn[15], line 6\u001b[0m\n\u001b[0;32m      4\u001b[0m \u001b[38;5;28;01mdef\u001b[39;00m\u001b[38;5;250m \u001b[39m\u001b[38;5;21mprog_callback\u001b[39m(step, total_steps):\n\u001b[0;32m      5\u001b[0m     \u001b[38;5;28mprint\u001b[39m(\u001b[38;5;28mstr\u001b[39m(\u001b[38;5;241m100\u001b[39m \u001b[38;5;241m*\u001b[39m step \u001b[38;5;241m/\u001b[39m\u001b[38;5;241m/\u001b[39m total_steps) \u001b[38;5;241m+\u001b[39m \u001b[38;5;124m\"\u001b[39m\u001b[38;5;132;01m% g\u001b[39;00m\u001b[38;5;124menerated\u001b[39m\u001b[38;5;124m\"\u001b[39m)\n\u001b[1;32m----> 6\u001b[0m model \u001b[38;5;241m=\u001b[39m \u001b[43mload_latest_model_from\u001b[49m\u001b[43m(\u001b[49m\u001b[38;5;124;43m'\u001b[39;49m\u001b[38;5;124;43msnapshots\u001b[39;49m\u001b[38;5;124;43m'\u001b[39;49m\u001b[43m,\u001b[49m\u001b[43m \u001b[49m\u001b[43muse_cuda\u001b[49m\u001b[38;5;241;43m=\u001b[39;49m\u001b[38;5;28;43;01mTrue\u001b[39;49;00m\u001b[43m)\u001b[49m\n\u001b[0;32m      7\u001b[0m generated \u001b[38;5;241m=\u001b[39m model\u001b[38;5;241m.\u001b[39mgenerate_fast(num_samples\u001b[38;5;241m=\u001b[39m\u001b[38;5;241m160000\u001b[39m,\n\u001b[0;32m      8\u001b[0m                                  first_samples\u001b[38;5;241m=\u001b[39mstart_data,\n\u001b[0;32m      9\u001b[0m                                  progress_callback\u001b[38;5;241m=\u001b[39mprog_callback,\n\u001b[0;32m     10\u001b[0m                                  progress_interval\u001b[38;5;241m=\u001b[39m\u001b[38;5;241m1000\u001b[39m,\n\u001b[0;32m     11\u001b[0m                                  temperature\u001b[38;5;241m=\u001b[39m\u001b[38;5;241m1.0\u001b[39m,\n\u001b[0;32m     12\u001b[0m                                  regularize\u001b[38;5;241m=\u001b[39m\u001b[38;5;241m0.\u001b[39m)\n",
      "File \u001b[1;32m~\\Documents\\MATH 479 (Math Modelling)\\WaveNet-Implementation\\wavenet_model.py:342\u001b[0m, in \u001b[0;36mload_latest_model_from\u001b[1;34m(location, use_cuda)\u001b[0m\n\u001b[0;32m    340\u001b[0m if use_cuda:\n\u001b[0;32m    341\u001b[0m     model = torch.load(newest_file)\n\u001b[1;32m--> 342\u001b[0m else:\n\u001b[0;32m    343\u001b[0m     model = load_to_cpu(newest_file)\n\u001b[0;32m    345\u001b[0m return model\n",
      "File \u001b[1;32m~\\anaconda3\\envs\\pythonProject\\lib\\site-packages\\torch\\serialization.py:1479\u001b[0m, in \u001b[0;36mload\u001b[1;34m(f, map_location, pickle_module, weights_only, mmap, **pickle_load_args)\u001b[0m\n\u001b[0;32m   1476\u001b[0m \u001b[38;5;28;01mif\u001b[39;00m \u001b[38;5;124m\"\u001b[39m\u001b[38;5;124mencoding\u001b[39m\u001b[38;5;124m\"\u001b[39m \u001b[38;5;129;01mnot\u001b[39;00m \u001b[38;5;129;01min\u001b[39;00m pickle_load_args\u001b[38;5;241m.\u001b[39mkeys():\n\u001b[0;32m   1477\u001b[0m     pickle_load_args[\u001b[38;5;124m\"\u001b[39m\u001b[38;5;124mencoding\u001b[39m\u001b[38;5;124m\"\u001b[39m] \u001b[38;5;241m=\u001b[39m \u001b[38;5;124m\"\u001b[39m\u001b[38;5;124mutf-8\u001b[39m\u001b[38;5;124m\"\u001b[39m\n\u001b[1;32m-> 1479\u001b[0m \u001b[38;5;28;01mwith\u001b[39;00m \u001b[43m_open_file_like\u001b[49m\u001b[43m(\u001b[49m\u001b[43mf\u001b[49m\u001b[43m,\u001b[49m\u001b[43m \u001b[49m\u001b[38;5;124;43m\"\u001b[39;49m\u001b[38;5;124;43mrb\u001b[39;49m\u001b[38;5;124;43m\"\u001b[39;49m\u001b[43m)\u001b[49m \u001b[38;5;28;01mas\u001b[39;00m opened_file:\n\u001b[0;32m   1480\u001b[0m     \u001b[38;5;28;01mif\u001b[39;00m _is_zipfile(opened_file):\n\u001b[0;32m   1481\u001b[0m         \u001b[38;5;66;03m# The zipfile reader is going to advance the current file position.\u001b[39;00m\n\u001b[0;32m   1482\u001b[0m         \u001b[38;5;66;03m# If we want to actually tail call to torch.jit.load, we need to\u001b[39;00m\n\u001b[0;32m   1483\u001b[0m         \u001b[38;5;66;03m# reset back to the original position.\u001b[39;00m\n\u001b[0;32m   1484\u001b[0m         orig_position \u001b[38;5;241m=\u001b[39m opened_file\u001b[38;5;241m.\u001b[39mtell()\n",
      "File \u001b[1;32m~\\anaconda3\\envs\\pythonProject\\lib\\site-packages\\torch\\serialization.py:759\u001b[0m, in \u001b[0;36m_open_file_like\u001b[1;34m(name_or_buffer, mode)\u001b[0m\n\u001b[0;32m    757\u001b[0m \u001b[38;5;28;01mdef\u001b[39;00m\u001b[38;5;250m \u001b[39m\u001b[38;5;21m_open_file_like\u001b[39m(name_or_buffer: FileLike, mode: \u001b[38;5;28mstr\u001b[39m) \u001b[38;5;241m-\u001b[39m\u001b[38;5;241m>\u001b[39m _opener[IO[\u001b[38;5;28mbytes\u001b[39m]]:\n\u001b[0;32m    758\u001b[0m     \u001b[38;5;28;01mif\u001b[39;00m _is_path(name_or_buffer):\n\u001b[1;32m--> 759\u001b[0m         \u001b[38;5;28;01mreturn\u001b[39;00m \u001b[43m_open_file\u001b[49m\u001b[43m(\u001b[49m\u001b[43mname_or_buffer\u001b[49m\u001b[43m,\u001b[49m\u001b[43m \u001b[49m\u001b[43mmode\u001b[49m\u001b[43m)\u001b[49m\n\u001b[0;32m    760\u001b[0m     \u001b[38;5;28;01melse\u001b[39;00m:\n\u001b[0;32m    761\u001b[0m         \u001b[38;5;28;01mif\u001b[39;00m \u001b[38;5;124m\"\u001b[39m\u001b[38;5;124mw\u001b[39m\u001b[38;5;124m\"\u001b[39m \u001b[38;5;129;01min\u001b[39;00m mode:\n",
      "File \u001b[1;32m~\\anaconda3\\envs\\pythonProject\\lib\\site-packages\\torch\\serialization.py:740\u001b[0m, in \u001b[0;36m_open_file.__init__\u001b[1;34m(self, name, mode)\u001b[0m\n\u001b[0;32m    739\u001b[0m \u001b[38;5;28;01mdef\u001b[39;00m\u001b[38;5;250m \u001b[39m\u001b[38;5;21m__init__\u001b[39m(\u001b[38;5;28mself\u001b[39m, name: Union[\u001b[38;5;28mstr\u001b[39m, os\u001b[38;5;241m.\u001b[39mPathLike[\u001b[38;5;28mstr\u001b[39m]], mode: \u001b[38;5;28mstr\u001b[39m) \u001b[38;5;241m-\u001b[39m\u001b[38;5;241m>\u001b[39m \u001b[38;5;28;01mNone\u001b[39;00m:\n\u001b[1;32m--> 740\u001b[0m     \u001b[38;5;28msuper\u001b[39m()\u001b[38;5;241m.\u001b[39m\u001b[38;5;21m__init__\u001b[39m(\u001b[38;5;28;43mopen\u001b[39;49m\u001b[43m(\u001b[49m\u001b[43mname\u001b[49m\u001b[43m,\u001b[49m\u001b[43m \u001b[49m\u001b[43mmode\u001b[49m\u001b[43m)\u001b[49m)\n",
      "\u001b[1;31mPermissionError\u001b[0m: [Errno 13] Permission denied: 'snapshots/.ipynb_checkpoints'"
     ]
    }
   ],
   "source": [
    "start_data = data[25000][0] # use start data from the data set\n",
    "start_data = torch.max(start_data, 0)[1] # convert one hot vectors to integers\n",
    "print(start_data)\n",
    "def prog_callback(step, total_steps):\n",
    "    print(str(100 * step // total_steps) + \"% generated\")\n",
    "model = load_latest_model_from('snapshots', use_cuda=True)\n",
    "generated = model.generate_fast(num_samples=160000,\n",
    "                                 first_samples=start_data,\n",
    "                                 progress_callback=prog_callback,\n",
    "                                 progress_interval=1000,\n",
    "                                 temperature=1.0,\n",
    "                                 regularize=0.)"
   ]
  },
  {
   "cell_type": "code",
   "execution_count": null,
   "metadata": {},
   "outputs": [],
   "source": [
    "import IPython.display as ipd\n",
    "\n",
    "ipd.Audio(generated, rate=16000)"
   ]
  }
 ],
 "metadata": {
  "anaconda-cloud": {},
  "kernelspec": {
   "display_name": "Python 3 (ipykernel)",
   "language": "python",
   "name": "python3"
  },
  "language_info": {
   "codemirror_mode": {
    "name": "ipython",
    "version": 3
   },
   "file_extension": ".py",
   "mimetype": "text/x-python",
   "name": "python",
   "nbconvert_exporter": "python",
   "pygments_lexer": "ipython3",
   "version": "3.10.16"
  }
 },
 "nbformat": 4,
 "nbformat_minor": 4
}
